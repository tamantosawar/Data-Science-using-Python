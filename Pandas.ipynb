{
 "cells": [
  {
   "cell_type": "markdown",
   "id": "d07a6e4b",
   "metadata": {},
   "source": [
    "1. Create 3 list viz. productId, Product Name, Product Price     with 5 elements each. Add this element to create a DataFrame\n",
    "2. Extract one by one column and display separately from above dataframe.\n",
    "3. Display separately each and every row from an above dataframe. (use loc or iloc function)\n",
    "4. Display data name from 3 row using loc function.\n",
    "5. Display price located in 2 row using iloc function.\n",
    "6. Display 2nd to 4th row data excluding price.\n",
    "7. Display 1 to 3rd row price data only.\n",
    "8. Change marks in Maths column to 41 for students who have scored less than 40.\n",
    "9. Add 2 marks to all the subjects marks. If any of the marks exceeds 100 change it to 100.\n",
    "10. Display students who have scored more than 50 marks in Maths and more than 60 marks in Science.\n",
    "11. Display students records whose name starts with letter S.\n",
    "12. Display students records whose name ends with letter a.\n",
    "13. Calculate total and percentage for all the students.\n",
    "14. Calculate Status (PASS / FAIL) for the Students.\n",
    "15. Calculate percentage based grade value (per>=90 then A-grade, per>=80 then B-grade, per>=70 then C-grade, per>=60 then D-grade, per>=50 then E-grade, per<50 then F.grade)\n",
    "16. Also calculate overall columns total, maximum, minimum and standard deviation for each numeric columns Convert the above dataframe to excel, json and html.\n",
    "17. Display meta-data for each column for the above dataframe.\n",
    "18.Convert the above DataFrame to list within a dictionary.\n",
    "19. Convert this dictionary again to a separate dataframe by adding 500 to each element in product price column."
   ]
  },
  {
   "cell_type": "code",
   "execution_count": 1,
   "id": "71621859",
   "metadata": {},
   "outputs": [],
   "source": [
    "import pandas as pd\n",
    "import numpy as np"
   ]
  },
  {
   "cell_type": "code",
   "execution_count": 2,
   "id": "03066157",
   "metadata": {},
   "outputs": [],
   "source": [
    "product_id=[101,102,103,104,105]\n",
    "product_name=[\"Pen\",\"Marker\",\"Notebook\",\"Pencil\",\"Scissor\"]\n",
    "product_price=[20,30,70,10,78]\n"
   ]
  },
  {
   "cell_type": "code",
   "execution_count": 3,
   "id": "70b6ea5f",
   "metadata": {},
   "outputs": [],
   "source": [
    "data={'Product ID':product_id,'Product Name':product_name,'Product Price':product_price}"
   ]
  },
  {
   "cell_type": "code",
   "execution_count": 4,
   "id": "57c8a6eb",
   "metadata": {},
   "outputs": [
    {
     "data": {
      "text/plain": [
       "{'Product ID': [101, 102, 103, 104, 105],\n",
       " 'Product Name': ['Pen', 'Marker', 'Notebook', 'Pencil', 'Scissor'],\n",
       " 'Product Price': [20, 30, 70, 10, 78]}"
      ]
     },
     "execution_count": 4,
     "metadata": {},
     "output_type": "execute_result"
    }
   ],
   "source": [
    "data"
   ]
  },
  {
   "cell_type": "code",
   "execution_count": 5,
   "id": "79cd187b",
   "metadata": {},
   "outputs": [
    {
     "ename": "NameError",
     "evalue": "name 'df' is not defined",
     "output_type": "error",
     "traceback": [
      "\u001b[1;31m---------------------------------------------------------------------------\u001b[0m",
      "\u001b[1;31mNameError\u001b[0m                                 Traceback (most recent call last)",
      "Cell \u001b[1;32mIn[5], line 1\u001b[0m\n\u001b[1;32m----> 1\u001b[0m df\n",
      "\u001b[1;31mNameError\u001b[0m: name 'df' is not defined"
     ]
    }
   ],
   "source": [
    "df"
   ]
  },
  {
   "cell_type": "code",
   "execution_count": 5,
   "id": "b87546c3",
   "metadata": {},
   "outputs": [],
   "source": [
    "df=pd.DataFrame(data)"
   ]
  },
  {
   "cell_type": "code",
   "execution_count": 6,
   "id": "474fe9ce",
   "metadata": {},
   "outputs": [
    {
     "data": {
      "text/plain": [
       "(5, 3)"
      ]
     },
     "execution_count": 6,
     "metadata": {},
     "output_type": "execute_result"
    }
   ],
   "source": [
    "df.shape"
   ]
  },
  {
   "cell_type": "code",
   "execution_count": 138,
   "id": "f86efeef",
   "metadata": {},
   "outputs": [],
   "source": [
    "df.set_index(\"Product Name\",inplace=True)\n",
    "df.set_index?"
   ]
  },
  {
   "cell_type": "code",
   "execution_count": 142,
   "id": "06677ad3",
   "metadata": {},
   "outputs": [
    {
     "name": "stdout",
     "output_type": "stream",
     "text": [
      "<class 'pandas.core.frame.DataFrame'>\n",
      "Index: 5 entries, Pen to Scissor\n",
      "Data columns (total 2 columns):\n",
      " #   Column         Non-Null Count  Dtype\n",
      "---  ------         --------------  -----\n",
      " 0   Product ID     5 non-null      int64\n",
      " 1   Product Price  5 non-null      int64\n",
      "dtypes: int64(2)\n",
      "memory usage: 120.0+ bytes\n"
     ]
    }
   ],
   "source": [
    "df.info()"
   ]
  },
  {
   "cell_type": "code",
   "execution_count": 47,
   "id": "cec0bdf4",
   "metadata": {},
   "outputs": [
    {
     "data": {
      "text/plain": [
       "Index(['Product ID', 'Product Name', 'Product Price'], dtype='object')"
      ]
     },
     "execution_count": 47,
     "metadata": {},
     "output_type": "execute_result"
    }
   ],
   "source": [
    "df.keys()"
   ]
  },
  {
   "cell_type": "code",
   "execution_count": 48,
   "id": "1f22a355",
   "metadata": {},
   "outputs": [
    {
     "data": {
      "text/plain": [
       "0         Pen\n",
       "1      Marker\n",
       "2    Notebook\n",
       "3      Pencil\n",
       "4     Scissor\n",
       "Name: Product Name, dtype: object"
      ]
     },
     "execution_count": 48,
     "metadata": {},
     "output_type": "execute_result"
    }
   ],
   "source": [
    "df[\"Product Name\"]"
   ]
  },
  {
   "cell_type": "code",
   "execution_count": 19,
   "id": "1334e653",
   "metadata": {},
   "outputs": [
    {
     "data": {
      "text/plain": [
       "0    20\n",
       "1    30\n",
       "2    70\n",
       "3    10\n",
       "4    78\n",
       "Name: Product Price, dtype: int64"
      ]
     },
     "execution_count": 19,
     "metadata": {},
     "output_type": "execute_result"
    }
   ],
   "source": [
    "df[\"Product Price\"]"
   ]
  },
  {
   "cell_type": "code",
   "execution_count": 50,
   "id": "5c45cc81",
   "metadata": {},
   "outputs": [
    {
     "data": {
      "text/plain": [
       "0    101\n",
       "1    102\n",
       "2    103\n",
       "3    104\n",
       "4    105\n",
       "Name: Product ID, dtype: int64"
      ]
     },
     "execution_count": 50,
     "metadata": {},
     "output_type": "execute_result"
    }
   ],
   "source": [
    "df[\"Product ID\"]"
   ]
  },
  {
   "cell_type": "code",
   "execution_count": 29,
   "id": "9d3551d7",
   "metadata": {},
   "outputs": [
    {
     "name": "stdout",
     "output_type": "stream",
     "text": [
      "('Product ID', 0    101\n",
      "1    102\n",
      "2    103\n",
      "3    104\n",
      "4    105\n",
      "Name: Product ID, dtype: int64)\n",
      "('Product Name', 0         Pen\n",
      "1      Marker\n",
      "2    Notebook\n",
      "3      Pencil\n",
      "4     Scissor\n",
      "Name: Product Name, dtype: object)\n",
      "('Product Price', 0    20\n",
      "1    30\n",
      "2    70\n",
      "3    10\n",
      "4    78\n",
      "Name: Product Price, dtype: int64)\n"
     ]
    }
   ],
   "source": [
    "for col in df.items():\n",
    "    print(col)"
   ]
  },
  {
   "cell_type": "code",
   "execution_count": 30,
   "id": "950e8620",
   "metadata": {},
   "outputs": [
    {
     "name": "stdout",
     "output_type": "stream",
     "text": [
      "(0, Product ID       101\n",
      "Product Name     Pen\n",
      "Product Price     20\n",
      "Name: 0, dtype: object)\n",
      "(1, Product ID          102\n",
      "Product Name     Marker\n",
      "Product Price        30\n",
      "Name: 1, dtype: object)\n",
      "(2, Product ID            103\n",
      "Product Name     Notebook\n",
      "Product Price          70\n",
      "Name: 2, dtype: object)\n",
      "(3, Product ID          104\n",
      "Product Name     Pencil\n",
      "Product Price        10\n",
      "Name: 3, dtype: object)\n",
      "(4, Product ID           105\n",
      "Product Name     Scissor\n",
      "Product Price         78\n",
      "Name: 4, dtype: object)\n"
     ]
    }
   ],
   "source": [
    "for row in df.iterrows():\n",
    "    print(row)"
   ]
  },
  {
   "cell_type": "code",
   "execution_count": 152,
   "id": "6d94b6af",
   "metadata": {},
   "outputs": [
    {
     "data": {
      "text/html": [
       "<div>\n",
       "<style scoped>\n",
       "    .dataframe tbody tr th:only-of-type {\n",
       "        vertical-align: middle;\n",
       "    }\n",
       "\n",
       "    .dataframe tbody tr th {\n",
       "        vertical-align: top;\n",
       "    }\n",
       "\n",
       "    .dataframe thead th {\n",
       "        text-align: right;\n",
       "    }\n",
       "</style>\n",
       "<table border=\"1\" class=\"dataframe\">\n",
       "  <thead>\n",
       "    <tr style=\"text-align: right;\">\n",
       "      <th></th>\n",
       "      <th>Product Price</th>\n",
       "    </tr>\n",
       "    <tr>\n",
       "      <th>Product Name</th>\n",
       "      <th></th>\n",
       "    </tr>\n",
       "  </thead>\n",
       "  <tbody>\n",
       "    <tr>\n",
       "      <th>Marker</th>\n",
       "      <td>30</td>\n",
       "    </tr>\n",
       "    <tr>\n",
       "      <th>Notebook</th>\n",
       "      <td>70</td>\n",
       "    </tr>\n",
       "    <tr>\n",
       "      <th>Pencil</th>\n",
       "      <td>10</td>\n",
       "    </tr>\n",
       "  </tbody>\n",
       "</table>\n",
       "</div>"
      ],
      "text/plain": [
       "              Product Price\n",
       "Product Name               \n",
       "Marker                   30\n",
       "Notebook                 70\n",
       "Pencil                   10"
      ]
     },
     "execution_count": 152,
     "metadata": {},
     "output_type": "execute_result"
    }
   ],
   "source": [
    "df.loc['Marker':'Pencil',['Product Price']]"
   ]
  },
  {
   "cell_type": "code",
   "execution_count": 34,
   "id": "c2ad25cd",
   "metadata": {},
   "outputs": [
    {
     "data": {
      "text/plain": [
       "2    70\n",
       "3    10\n",
       "4    78\n",
       "Name: Product Price, dtype: int64"
      ]
     },
     "execution_count": 34,
     "metadata": {},
     "output_type": "execute_result"
    }
   ],
   "source": [
    "df.loc[2:]"
   ]
  },
  {
   "cell_type": "code",
   "execution_count": 38,
   "id": "43bd7510",
   "metadata": {},
   "outputs": [
    {
     "data": {
      "text/html": [
       "<div>\n",
       "<style scoped>\n",
       "    .dataframe tbody tr th:only-of-type {\n",
       "        vertical-align: middle;\n",
       "    }\n",
       "\n",
       "    .dataframe tbody tr th {\n",
       "        vertical-align: top;\n",
       "    }\n",
       "\n",
       "    .dataframe thead th {\n",
       "        text-align: right;\n",
       "    }\n",
       "</style>\n",
       "<table border=\"1\" class=\"dataframe\">\n",
       "  <thead>\n",
       "    <tr style=\"text-align: right;\">\n",
       "      <th></th>\n",
       "      <th>Product ID</th>\n",
       "      <th>Product Name</th>\n",
       "    </tr>\n",
       "  </thead>\n",
       "  <tbody>\n",
       "    <tr>\n",
       "      <th>1</th>\n",
       "      <td>102</td>\n",
       "      <td>Marker</td>\n",
       "    </tr>\n",
       "    <tr>\n",
       "      <th>2</th>\n",
       "      <td>103</td>\n",
       "      <td>Notebook</td>\n",
       "    </tr>\n",
       "    <tr>\n",
       "      <th>3</th>\n",
       "      <td>104</td>\n",
       "      <td>Pencil</td>\n",
       "    </tr>\n",
       "    <tr>\n",
       "      <th>4</th>\n",
       "      <td>105</td>\n",
       "      <td>Scissor</td>\n",
       "    </tr>\n",
       "  </tbody>\n",
       "</table>\n",
       "</div>"
      ],
      "text/plain": [
       "   Product ID Product Name\n",
       "1         102       Marker\n",
       "2         103     Notebook\n",
       "3         104       Pencil\n",
       "4         105      Scissor"
      ]
     },
     "execution_count": 38,
     "metadata": {},
     "output_type": "execute_result"
    }
   ],
   "source": [
    "df.loc[1:4,df.columns!='Product Price']"
   ]
  },
  {
   "cell_type": "code",
   "execution_count": 158,
   "id": "bb532d54",
   "metadata": {},
   "outputs": [
    {
     "data": {
      "text/plain": [
       "Product Name\n",
       "Marker      30\n",
       "Notebook    70\n",
       "Name: Product Price, dtype: int64"
      ]
     },
     "execution_count": 158,
     "metadata": {},
     "output_type": "execute_result"
    }
   ],
   "source": [
    "df.iloc[1:3]['Product Price']"
   ]
  },
  {
   "cell_type": "code",
   "execution_count": 88,
   "id": "ded10b26",
   "metadata": {},
   "outputs": [
    {
     "data": {
      "text/html": [
       "<div>\n",
       "<style scoped>\n",
       "    .dataframe tbody tr th:only-of-type {\n",
       "        vertical-align: middle;\n",
       "    }\n",
       "\n",
       "    .dataframe tbody tr th {\n",
       "        vertical-align: top;\n",
       "    }\n",
       "\n",
       "    .dataframe thead th {\n",
       "        text-align: right;\n",
       "    }\n",
       "</style>\n",
       "<table border=\"1\" class=\"dataframe\">\n",
       "  <thead>\n",
       "    <tr style=\"text-align: right;\">\n",
       "      <th></th>\n",
       "      <th>Product Price</th>\n",
       "    </tr>\n",
       "    <tr>\n",
       "      <th>Product ID</th>\n",
       "      <th></th>\n",
       "    </tr>\n",
       "  </thead>\n",
       "  <tbody>\n",
       "    <tr>\n",
       "      <th>101</th>\n",
       "      <td>20</td>\n",
       "    </tr>\n",
       "    <tr>\n",
       "      <th>102</th>\n",
       "      <td>30</td>\n",
       "    </tr>\n",
       "    <tr>\n",
       "      <th>103</th>\n",
       "      <td>70</td>\n",
       "    </tr>\n",
       "  </tbody>\n",
       "</table>\n",
       "</div>"
      ],
      "text/plain": [
       "            Product Price\n",
       "Product ID               \n",
       "101                    20\n",
       "102                    30\n",
       "103                    70"
      ]
     },
     "execution_count": 88,
     "metadata": {},
     "output_type": "execute_result"
    }
   ],
   "source": [
    "df.loc[101:103,[\"Product Price\"]]"
   ]
  },
  {
   "cell_type": "code",
   "execution_count": 101,
   "id": "9701943a",
   "metadata": {},
   "outputs": [
    {
     "data": {
      "text/html": [
       "<div>\n",
       "<style scoped>\n",
       "    .dataframe tbody tr th:only-of-type {\n",
       "        vertical-align: middle;\n",
       "    }\n",
       "\n",
       "    .dataframe tbody tr th {\n",
       "        vertical-align: top;\n",
       "    }\n",
       "\n",
       "    .dataframe thead th {\n",
       "        text-align: right;\n",
       "    }\n",
       "</style>\n",
       "<table border=\"1\" class=\"dataframe\">\n",
       "  <thead>\n",
       "    <tr style=\"text-align: right;\">\n",
       "      <th></th>\n",
       "      <th>Product Name</th>\n",
       "      <th>Product Price</th>\n",
       "    </tr>\n",
       "    <tr>\n",
       "      <th>Product ID</th>\n",
       "      <th></th>\n",
       "      <th></th>\n",
       "    </tr>\n",
       "  </thead>\n",
       "  <tbody>\n",
       "    <tr>\n",
       "      <th>103</th>\n",
       "      <td>Notebook</td>\n",
       "      <td>70</td>\n",
       "    </tr>\n",
       "    <tr>\n",
       "      <th>104</th>\n",
       "      <td>Pencil</td>\n",
       "      <td>10</td>\n",
       "    </tr>\n",
       "    <tr>\n",
       "      <th>105</th>\n",
       "      <td>Scissor</td>\n",
       "      <td>78</td>\n",
       "    </tr>\n",
       "  </tbody>\n",
       "</table>\n",
       "</div>"
      ],
      "text/plain": [
       "           Product Name  Product Price\n",
       "Product ID                            \n",
       "103            Notebook             70\n",
       "104              Pencil             10\n",
       "105             Scissor             78"
      ]
     },
     "execution_count": 101,
     "metadata": {},
     "output_type": "execute_result"
    }
   ],
   "source": [
    "df.iloc[2:,0:2]"
   ]
  },
  {
   "cell_type": "code",
   "execution_count": 102,
   "id": "945dea7c",
   "metadata": {},
   "outputs": [
    {
     "data": {
      "text/plain": [
       "30"
      ]
     },
     "execution_count": 102,
     "metadata": {},
     "output_type": "execute_result"
    }
   ],
   "source": [
    "df.iloc[1,1]"
   ]
  },
  {
   "cell_type": "code",
   "execution_count": 103,
   "id": "95c7731e",
   "metadata": {},
   "outputs": [
    {
     "data": {
      "text/html": [
       "<div>\n",
       "<style scoped>\n",
       "    .dataframe tbody tr th:only-of-type {\n",
       "        vertical-align: middle;\n",
       "    }\n",
       "\n",
       "    .dataframe tbody tr th {\n",
       "        vertical-align: top;\n",
       "    }\n",
       "\n",
       "    .dataframe thead th {\n",
       "        text-align: right;\n",
       "    }\n",
       "</style>\n",
       "<table border=\"1\" class=\"dataframe\">\n",
       "  <thead>\n",
       "    <tr style=\"text-align: right;\">\n",
       "      <th></th>\n",
       "      <th>Product Name</th>\n",
       "      <th>Product Price</th>\n",
       "    </tr>\n",
       "    <tr>\n",
       "      <th>Product ID</th>\n",
       "      <th></th>\n",
       "      <th></th>\n",
       "    </tr>\n",
       "  </thead>\n",
       "  <tbody>\n",
       "    <tr>\n",
       "      <th>101</th>\n",
       "      <td>Pen</td>\n",
       "      <td>20</td>\n",
       "    </tr>\n",
       "    <tr>\n",
       "      <th>102</th>\n",
       "      <td>Marker</td>\n",
       "      <td>30</td>\n",
       "    </tr>\n",
       "    <tr>\n",
       "      <th>103</th>\n",
       "      <td>Notebook</td>\n",
       "      <td>70</td>\n",
       "    </tr>\n",
       "    <tr>\n",
       "      <th>104</th>\n",
       "      <td>Pencil</td>\n",
       "      <td>10</td>\n",
       "    </tr>\n",
       "    <tr>\n",
       "      <th>105</th>\n",
       "      <td>Scissor</td>\n",
       "      <td>78</td>\n",
       "    </tr>\n",
       "  </tbody>\n",
       "</table>\n",
       "</div>"
      ],
      "text/plain": [
       "           Product Name  Product Price\n",
       "Product ID                            \n",
       "101                 Pen             20\n",
       "102              Marker             30\n",
       "103            Notebook             70\n",
       "104              Pencil             10\n",
       "105             Scissor             78"
      ]
     },
     "execution_count": 103,
     "metadata": {},
     "output_type": "execute_result"
    }
   ],
   "source": [
    "df"
   ]
  },
  {
   "cell_type": "code",
   "execution_count": 26,
   "id": "5f41f043",
   "metadata": {},
   "outputs": [],
   "source": [
    "df= pd.DataFrame(np.random.randint(1,100\n",
    ",(4,3)),index=['Riya','Siya','kiya','jiya'], \n",
    "columns=['python','Data Science','DBMS'])"
   ]
  },
  {
   "cell_type": "code",
   "execution_count": 27,
   "id": "4a930328",
   "metadata": {},
   "outputs": [
    {
     "data": {
      "text/plain": [
       "python          int32\n",
       "Data Science    int32\n",
       "DBMS            int32\n",
       "dtype: object"
      ]
     },
     "execution_count": 27,
     "metadata": {},
     "output_type": "execute_result"
    }
   ],
   "source": [
    "df.dtypes"
   ]
  },
  {
   "cell_type": "code",
   "execution_count": 41,
   "id": "858c9b27",
   "metadata": {},
   "outputs": [
    {
     "data": {
      "text/plain": [
       "Riya    False\n",
       "Siya     True\n",
       "kiya    False\n",
       "jiya     True\n",
       "Name: python, dtype: bool"
      ]
     },
     "execution_count": 41,
     "metadata": {},
     "output_type": "execute_result"
    }
   ],
   "source": [
    "df['python']<40"
   ]
  },
  {
   "cell_type": "code",
   "execution_count": 42,
   "id": "cb9fc313",
   "metadata": {},
   "outputs": [
    {
     "data": {
      "text/html": [
       "<div>\n",
       "<style scoped>\n",
       "    .dataframe tbody tr th:only-of-type {\n",
       "        vertical-align: middle;\n",
       "    }\n",
       "\n",
       "    .dataframe tbody tr th {\n",
       "        vertical-align: top;\n",
       "    }\n",
       "\n",
       "    .dataframe thead th {\n",
       "        text-align: right;\n",
       "    }\n",
       "</style>\n",
       "<table border=\"1\" class=\"dataframe\">\n",
       "  <thead>\n",
       "    <tr style=\"text-align: right;\">\n",
       "      <th></th>\n",
       "      <th>python</th>\n",
       "      <th>Data Science</th>\n",
       "      <th>DBMS</th>\n",
       "    </tr>\n",
       "  </thead>\n",
       "  <tbody>\n",
       "    <tr>\n",
       "      <th>Siya</th>\n",
       "      <td>19</td>\n",
       "      <td>71</td>\n",
       "      <td>21</td>\n",
       "    </tr>\n",
       "    <tr>\n",
       "      <th>jiya</th>\n",
       "      <td>38</td>\n",
       "      <td>89</td>\n",
       "      <td>86</td>\n",
       "    </tr>\n",
       "  </tbody>\n",
       "</table>\n",
       "</div>"
      ],
      "text/plain": [
       "      python  Data Science  DBMS\n",
       "Siya      19            71    21\n",
       "jiya      38            89    86"
      ]
     },
     "execution_count": 42,
     "metadata": {},
     "output_type": "execute_result"
    }
   ],
   "source": [
    "df[df['python']<40]"
   ]
  },
  {
   "cell_type": "code",
   "execution_count": 45,
   "id": "a1eb35d5",
   "metadata": {},
   "outputs": [
    {
     "data": {
      "text/html": [
       "<div>\n",
       "<style scoped>\n",
       "    .dataframe tbody tr th:only-of-type {\n",
       "        vertical-align: middle;\n",
       "    }\n",
       "\n",
       "    .dataframe tbody tr th {\n",
       "        vertical-align: top;\n",
       "    }\n",
       "\n",
       "    .dataframe thead th {\n",
       "        text-align: right;\n",
       "    }\n",
       "</style>\n",
       "<table border=\"1\" class=\"dataframe\">\n",
       "  <thead>\n",
       "    <tr style=\"text-align: right;\">\n",
       "      <th></th>\n",
       "      <th>python</th>\n",
       "      <th>Data Science</th>\n",
       "      <th>DBMS</th>\n",
       "    </tr>\n",
       "  </thead>\n",
       "  <tbody>\n",
       "    <tr>\n",
       "      <th>Riya</th>\n",
       "      <td>68</td>\n",
       "      <td>2</td>\n",
       "      <td>49</td>\n",
       "    </tr>\n",
       "    <tr>\n",
       "      <th>Siya</th>\n",
       "      <td>41</td>\n",
       "      <td>71</td>\n",
       "      <td>21</td>\n",
       "    </tr>\n",
       "    <tr>\n",
       "      <th>kiya</th>\n",
       "      <td>54</td>\n",
       "      <td>59</td>\n",
       "      <td>29</td>\n",
       "    </tr>\n",
       "    <tr>\n",
       "      <th>jiya</th>\n",
       "      <td>41</td>\n",
       "      <td>89</td>\n",
       "      <td>86</td>\n",
       "    </tr>\n",
       "  </tbody>\n",
       "</table>\n",
       "</div>"
      ],
      "text/plain": [
       "      python  Data Science  DBMS\n",
       "Riya      68             2    49\n",
       "Siya      41            71    21\n",
       "kiya      54            59    29\n",
       "jiya      41            89    86"
      ]
     },
     "execution_count": 45,
     "metadata": {},
     "output_type": "execute_result"
    }
   ],
   "source": [
    "df.loc[df['python']<40,'python']=41\n",
    "\n",
    "df"
   ]
  },
  {
   "cell_type": "code",
   "execution_count": 20,
   "id": "51025a6b",
   "metadata": {},
   "outputs": [],
   "source": [
    "df.loc[df['python']<90,'python']=41"
   ]
  },
  {
   "cell_type": "code",
   "execution_count": 21,
   "id": "5de4843d",
   "metadata": {},
   "outputs": [
    {
     "data": {
      "text/html": [
       "<div>\n",
       "<style scoped>\n",
       "    .dataframe tbody tr th:only-of-type {\n",
       "        vertical-align: middle;\n",
       "    }\n",
       "\n",
       "    .dataframe tbody tr th {\n",
       "        vertical-align: top;\n",
       "    }\n",
       "\n",
       "    .dataframe thead th {\n",
       "        text-align: right;\n",
       "    }\n",
       "</style>\n",
       "<table border=\"1\" class=\"dataframe\">\n",
       "  <thead>\n",
       "    <tr style=\"text-align: right;\">\n",
       "      <th></th>\n",
       "      <th>python</th>\n",
       "      <th>Data Science</th>\n",
       "      <th>DBMS</th>\n",
       "    </tr>\n",
       "  </thead>\n",
       "  <tbody>\n",
       "    <tr>\n",
       "      <th>Riya</th>\n",
       "      <td>41</td>\n",
       "      <td>87</td>\n",
       "      <td>26</td>\n",
       "    </tr>\n",
       "    <tr>\n",
       "      <th>Siya</th>\n",
       "      <td>41</td>\n",
       "      <td>94</td>\n",
       "      <td>23</td>\n",
       "    </tr>\n",
       "    <tr>\n",
       "      <th>kiya</th>\n",
       "      <td>41</td>\n",
       "      <td>28</td>\n",
       "      <td>85</td>\n",
       "    </tr>\n",
       "    <tr>\n",
       "      <th>jiya</th>\n",
       "      <td>41</td>\n",
       "      <td>83</td>\n",
       "      <td>87</td>\n",
       "    </tr>\n",
       "  </tbody>\n",
       "</table>\n",
       "</div>"
      ],
      "text/plain": [
       "      python  Data Science  DBMS\n",
       "Riya      41            87    26\n",
       "Siya      41            94    23\n",
       "kiya      41            28    85\n",
       "jiya      41            83    87"
      ]
     },
     "execution_count": 21,
     "metadata": {},
     "output_type": "execute_result"
    }
   ],
   "source": [
    "df"
   ]
  },
  {
   "cell_type": "code",
   "execution_count": 26,
   "id": "62a45530",
   "metadata": {},
   "outputs": [
    {
     "data": {
      "text/plain": [
       "array([41])"
      ]
     },
     "execution_count": 26,
     "metadata": {},
     "output_type": "execute_result"
    }
   ],
   "source": [
    "df.python.unique()"
   ]
  },
  {
   "cell_type": "code",
   "execution_count": 8,
   "id": "b4e1d1a3",
   "metadata": {},
   "outputs": [
    {
     "ename": "TypeError",
     "evalue": "'>' not supported between instances of 'str' and 'int'",
     "output_type": "error",
     "traceback": [
      "\u001b[1;31m---------------------------------------------------------------------------\u001b[0m",
      "\u001b[1;31mTypeError\u001b[0m                                 Traceback (most recent call last)",
      "Cell \u001b[1;32mIn[8], line 1\u001b[0m\n\u001b[1;32m----> 1\u001b[0m df[\u001b[38;5;124m'\u001b[39m\u001b[38;5;124mpython\u001b[39m\u001b[38;5;124m'\u001b[39m\u001b[38;5;241m>\u001b[39m\u001b[38;5;241m60\u001b[39m , \u001b[38;5;124m'\u001b[39m\u001b[38;5;124mData Science\u001b[39m\u001b[38;5;124m'\u001b[39m\u001b[38;5;241m>\u001b[39m\u001b[38;5;241m50\u001b[39m]\n",
      "\u001b[1;31mTypeError\u001b[0m: '>' not supported between instances of 'str' and 'int'"
     ]
    }
   ],
   "source": [
    "df['python'>60,'Data Science'>50]"
   ]
  },
  {
   "cell_type": "code",
   "execution_count": 44,
   "id": "a715a0ab",
   "metadata": {},
   "outputs": [],
   "source": [
    "df2=df.python.drop_duplicates()"
   ]
  },
  {
   "cell_type": "code",
   "execution_count": 45,
   "id": "bab564e4",
   "metadata": {},
   "outputs": [
    {
     "data": {
      "text/plain": [
       "Riya    50\n",
       "Siya    41\n",
       "jiya    84\n",
       "Name: python, dtype: int32"
      ]
     },
     "execution_count": 45,
     "metadata": {},
     "output_type": "execute_result"
    }
   ],
   "source": [
    "df2"
   ]
  },
  {
   "cell_type": "code",
   "execution_count": 6,
   "id": "ec1c511a",
   "metadata": {},
   "outputs": [],
   "source": [
    "df.dropna?"
   ]
  },
  {
   "cell_type": "code",
   "execution_count": 8,
   "id": "f6ac468f",
   "metadata": {},
   "outputs": [
    {
     "data": {
      "text/plain": [
       "Riya    112\n",
       "Siya     44\n",
       "kiya    146\n",
       "jiya     76\n",
       "Name: python, dtype: int32"
      ]
     },
     "execution_count": 8,
     "metadata": {},
     "output_type": "execute_result"
    }
   ],
   "source": [
    "df.python*2"
   ]
  },
  {
   "cell_type": "code",
   "execution_count": 10,
   "id": "b26e3195",
   "metadata": {},
   "outputs": [],
   "source": [
    "df.python=df.python*2"
   ]
  },
  {
   "cell_type": "code",
   "execution_count": 28,
   "id": "7386e96e",
   "metadata": {},
   "outputs": [
    {
     "data": {
      "text/html": [
       "<div>\n",
       "<style scoped>\n",
       "    .dataframe tbody tr th:only-of-type {\n",
       "        vertical-align: middle;\n",
       "    }\n",
       "\n",
       "    .dataframe tbody tr th {\n",
       "        vertical-align: top;\n",
       "    }\n",
       "\n",
       "    .dataframe thead th {\n",
       "        text-align: right;\n",
       "    }\n",
       "</style>\n",
       "<table border=\"1\" class=\"dataframe\">\n",
       "  <thead>\n",
       "    <tr style=\"text-align: right;\">\n",
       "      <th></th>\n",
       "      <th>python</th>\n",
       "      <th>Data Science</th>\n",
       "      <th>DBMS</th>\n",
       "    </tr>\n",
       "  </thead>\n",
       "  <tbody>\n",
       "    <tr>\n",
       "      <th>count</th>\n",
       "      <td>4.00000</td>\n",
       "      <td>4.000000</td>\n",
       "      <td>4.000000</td>\n",
       "    </tr>\n",
       "    <tr>\n",
       "      <th>mean</th>\n",
       "      <td>30.25000</td>\n",
       "      <td>32.500000</td>\n",
       "      <td>26.750000</td>\n",
       "    </tr>\n",
       "    <tr>\n",
       "      <th>std</th>\n",
       "      <td>29.65777</td>\n",
       "      <td>14.059398</td>\n",
       "      <td>17.651723</td>\n",
       "    </tr>\n",
       "    <tr>\n",
       "      <th>min</th>\n",
       "      <td>3.00000</td>\n",
       "      <td>12.000000</td>\n",
       "      <td>6.000000</td>\n",
       "    </tr>\n",
       "    <tr>\n",
       "      <th>25%</th>\n",
       "      <td>12.00000</td>\n",
       "      <td>29.250000</td>\n",
       "      <td>19.500000</td>\n",
       "    </tr>\n",
       "    <tr>\n",
       "      <th>50%</th>\n",
       "      <td>23.50000</td>\n",
       "      <td>37.500000</td>\n",
       "      <td>26.000000</td>\n",
       "    </tr>\n",
       "    <tr>\n",
       "      <th>75%</th>\n",
       "      <td>41.75000</td>\n",
       "      <td>40.750000</td>\n",
       "      <td>33.250000</td>\n",
       "    </tr>\n",
       "    <tr>\n",
       "      <th>max</th>\n",
       "      <td>71.00000</td>\n",
       "      <td>43.000000</td>\n",
       "      <td>49.000000</td>\n",
       "    </tr>\n",
       "  </tbody>\n",
       "</table>\n",
       "</div>"
      ],
      "text/plain": [
       "         python  Data Science       DBMS\n",
       "count   4.00000      4.000000   4.000000\n",
       "mean   30.25000     32.500000  26.750000\n",
       "std    29.65777     14.059398  17.651723\n",
       "min     3.00000     12.000000   6.000000\n",
       "25%    12.00000     29.250000  19.500000\n",
       "50%    23.50000     37.500000  26.000000\n",
       "75%    41.75000     40.750000  33.250000\n",
       "max    71.00000     43.000000  49.000000"
      ]
     },
     "execution_count": 28,
     "metadata": {},
     "output_type": "execute_result"
    }
   ],
   "source": [
    "df.describe()"
   ]
  },
  {
   "cell_type": "code",
   "execution_count": 29,
   "id": "cbc341c1",
   "metadata": {},
   "outputs": [
    {
     "name": "stdout",
     "output_type": "stream",
     "text": [
      "<class 'pandas.core.frame.DataFrame'>\n",
      "Index: 4 entries, Riya to jiya\n",
      "Data columns (total 3 columns):\n",
      " #   Column        Non-Null Count  Dtype\n",
      "---  ------        --------------  -----\n",
      " 0   python        4 non-null      int32\n",
      " 1   Data Science  4 non-null      int32\n",
      " 2   DBMS          4 non-null      int32\n",
      "dtypes: int32(3)\n",
      "memory usage: 80.0+ bytes\n"
     ]
    }
   ],
   "source": [
    "df.info()"
   ]
  },
  {
   "cell_type": "code",
   "execution_count": 53,
   "id": "2d80b25a",
   "metadata": {},
   "outputs": [],
   "source": [
    "df.to_json('df.json')"
   ]
  },
  {
   "cell_type": "code",
   "execution_count": 54,
   "id": "de65b611",
   "metadata": {},
   "outputs": [],
   "source": [
    "df.to_excel('df1.xlsx')"
   ]
  },
  {
   "cell_type": "code",
   "execution_count": 56,
   "id": "ae28ed3f",
   "metadata": {},
   "outputs": [
    {
     "data": {
      "text/plain": [
       "python          int32\n",
       "Data Science    int32\n",
       "DBMS            int32\n",
       "dtype: object"
      ]
     },
     "execution_count": 56,
     "metadata": {},
     "output_type": "execute_result"
    }
   ],
   "source": [
    "df.dtypes"
   ]
  },
  {
   "cell_type": "code",
   "execution_count": 34,
   "id": "86ed4666",
   "metadata": {},
   "outputs": [],
   "source": [
    "d=df.to_dict(orient='list')"
   ]
  },
  {
   "cell_type": "code",
   "execution_count": 39,
   "id": "3ad7a258",
   "metadata": {},
   "outputs": [
    {
     "data": {
      "text/plain": [
       "[6, 24, 28, 49]"
      ]
     },
     "execution_count": 39,
     "metadata": {},
     "output_type": "execute_result"
    }
   ],
   "source": [
    "d['DBMS']"
   ]
  },
  {
   "cell_type": "code",
   "execution_count": null,
   "id": "10926c50",
   "metadata": {},
   "outputs": [],
   "source": [
    "df"
   ]
  },
  {
   "cell_type": "code",
   "execution_count": null,
   "id": "6cf821bf",
   "metadata": {},
   "outputs": [],
   "source": []
  },
  {
   "cell_type": "code",
   "execution_count": 14,
   "id": "5aa97ee8",
   "metadata": {},
   "outputs": [],
   "source": [
    "df.columns=['python1', 'Data Science1', 'DBMS1']"
   ]
  },
  {
   "cell_type": "code",
   "execution_count": 15,
   "id": "70a8933a",
   "metadata": {},
   "outputs": [
    {
     "data": {
      "text/html": [
       "<div>\n",
       "<style scoped>\n",
       "    .dataframe tbody tr th:only-of-type {\n",
       "        vertical-align: middle;\n",
       "    }\n",
       "\n",
       "    .dataframe tbody tr th {\n",
       "        vertical-align: top;\n",
       "    }\n",
       "\n",
       "    .dataframe thead th {\n",
       "        text-align: right;\n",
       "    }\n",
       "</style>\n",
       "<table border=\"1\" class=\"dataframe\">\n",
       "  <thead>\n",
       "    <tr style=\"text-align: right;\">\n",
       "      <th></th>\n",
       "      <th>python1</th>\n",
       "      <th>Data Science1</th>\n",
       "      <th>DBMS1</th>\n",
       "    </tr>\n",
       "  </thead>\n",
       "  <tbody>\n",
       "    <tr>\n",
       "      <th>Riya</th>\n",
       "      <td>112</td>\n",
       "      <td>51</td>\n",
       "      <td>13</td>\n",
       "    </tr>\n",
       "    <tr>\n",
       "      <th>Siya</th>\n",
       "      <td>44</td>\n",
       "      <td>37</td>\n",
       "      <td>25</td>\n",
       "    </tr>\n",
       "    <tr>\n",
       "      <th>kiya</th>\n",
       "      <td>146</td>\n",
       "      <td>45</td>\n",
       "      <td>88</td>\n",
       "    </tr>\n",
       "    <tr>\n",
       "      <th>jiya</th>\n",
       "      <td>76</td>\n",
       "      <td>81</td>\n",
       "      <td>58</td>\n",
       "    </tr>\n",
       "  </tbody>\n",
       "</table>\n",
       "</div>"
      ],
      "text/plain": [
       "      python1  Data Science1  DBMS1\n",
       "Riya      112             51     13\n",
       "Siya       44             37     25\n",
       "kiya      146             45     88\n",
       "jiya       76             81     58"
      ]
     },
     "execution_count": 15,
     "metadata": {},
     "output_type": "execute_result"
    }
   ],
   "source": [
    "df"
   ]
  },
  {
   "cell_type": "code",
   "execution_count": null,
   "id": "9d5504dd",
   "metadata": {},
   "outputs": [],
   "source": []
  },
  {
   "cell_type": "code",
   "execution_count": 19,
   "id": "fcd7e05f",
   "metadata": {},
   "outputs": [
    {
     "data": {
      "text/plain": [
       "Siya    37\n",
       "kiya    45\n",
       "Name: Data Science1, dtype: int32"
      ]
     },
     "execution_count": 19,
     "metadata": {},
     "output_type": "execute_result"
    }
   ],
   "source": [
    "df.loc['Siya':'kiya']['Data Science1']"
   ]
  },
  {
   "cell_type": "code",
   "execution_count": 21,
   "id": "48f0f2a2",
   "metadata": {},
   "outputs": [
    {
     "data": {
      "text/plain": [
       "Siya    25\n",
       "kiya    88\n",
       "Name: DBMS1, dtype: int32"
      ]
     },
     "execution_count": 21,
     "metadata": {},
     "output_type": "execute_result"
    }
   ],
   "source": [
    "df.iloc[1:3]['DBMS1']"
   ]
  },
  {
   "cell_type": "code",
   "execution_count": 46,
   "id": "ac4ebcbc",
   "metadata": {},
   "outputs": [
    {
     "data": {
      "text/html": [
       "<div>\n",
       "<style scoped>\n",
       "    .dataframe tbody tr th:only-of-type {\n",
       "        vertical-align: middle;\n",
       "    }\n",
       "\n",
       "    .dataframe tbody tr th {\n",
       "        vertical-align: top;\n",
       "    }\n",
       "\n",
       "    .dataframe thead th {\n",
       "        text-align: right;\n",
       "    }\n",
       "</style>\n",
       "<table border=\"1\" class=\"dataframe\">\n",
       "  <thead>\n",
       "    <tr style=\"text-align: right;\">\n",
       "      <th></th>\n",
       "      <th>python</th>\n",
       "      <th>Data Science</th>\n",
       "      <th>DBMS</th>\n",
       "    </tr>\n",
       "  </thead>\n",
       "  <tbody>\n",
       "    <tr>\n",
       "      <th>Riya</th>\n",
       "      <td>68</td>\n",
       "      <td>2</td>\n",
       "      <td>49</td>\n",
       "    </tr>\n",
       "    <tr>\n",
       "      <th>Siya</th>\n",
       "      <td>41</td>\n",
       "      <td>71</td>\n",
       "      <td>21</td>\n",
       "    </tr>\n",
       "    <tr>\n",
       "      <th>kiya</th>\n",
       "      <td>54</td>\n",
       "      <td>59</td>\n",
       "      <td>29</td>\n",
       "    </tr>\n",
       "    <tr>\n",
       "      <th>jiya</th>\n",
       "      <td>41</td>\n",
       "      <td>89</td>\n",
       "      <td>86</td>\n",
       "    </tr>\n",
       "  </tbody>\n",
       "</table>\n",
       "</div>"
      ],
      "text/plain": [
       "      python  Data Science  DBMS\n",
       "Riya      68             2    49\n",
       "Siya      41            71    21\n",
       "kiya      54            59    29\n",
       "jiya      41            89    86"
      ]
     },
     "execution_count": 46,
     "metadata": {},
     "output_type": "execute_result"
    }
   ],
   "source": [
    "df"
   ]
  },
  {
   "cell_type": "code",
   "execution_count": 48,
   "id": "d24a170e",
   "metadata": {},
   "outputs": [],
   "source": [
    "df1=df+30"
   ]
  },
  {
   "cell_type": "code",
   "execution_count": 52,
   "id": "919d8d40",
   "metadata": {},
   "outputs": [
    {
     "data": {
      "text/html": [
       "<div>\n",
       "<style scoped>\n",
       "    .dataframe tbody tr th:only-of-type {\n",
       "        vertical-align: middle;\n",
       "    }\n",
       "\n",
       "    .dataframe tbody tr th {\n",
       "        vertical-align: top;\n",
       "    }\n",
       "\n",
       "    .dataframe thead th {\n",
       "        text-align: right;\n",
       "    }\n",
       "</style>\n",
       "<table border=\"1\" class=\"dataframe\">\n",
       "  <thead>\n",
       "    <tr style=\"text-align: right;\">\n",
       "      <th></th>\n",
       "      <th>python</th>\n",
       "      <th>Data Science</th>\n",
       "      <th>DBMS</th>\n",
       "    </tr>\n",
       "  </thead>\n",
       "  <tbody>\n",
       "    <tr>\n",
       "      <th>Riya</th>\n",
       "      <td>98</td>\n",
       "      <td>32</td>\n",
       "      <td>79</td>\n",
       "    </tr>\n",
       "    <tr>\n",
       "      <th>Siya</th>\n",
       "      <td>71</td>\n",
       "      <td>100</td>\n",
       "      <td>51</td>\n",
       "    </tr>\n",
       "    <tr>\n",
       "      <th>kiya</th>\n",
       "      <td>84</td>\n",
       "      <td>89</td>\n",
       "      <td>59</td>\n",
       "    </tr>\n",
       "    <tr>\n",
       "      <th>jiya</th>\n",
       "      <td>71</td>\n",
       "      <td>100</td>\n",
       "      <td>100</td>\n",
       "    </tr>\n",
       "  </tbody>\n",
       "</table>\n",
       "</div>"
      ],
      "text/plain": [
       "      python  Data Science  DBMS\n",
       "Riya      98            32    79\n",
       "Siya      71           100    51\n",
       "kiya      84            89    59\n",
       "jiya      71           100   100"
      ]
     },
     "execution_count": 52,
     "metadata": {},
     "output_type": "execute_result"
    }
   ],
   "source": [
    "df1[df1>100]=100\n",
    "df1"
   ]
  },
  {
   "cell_type": "code",
   "execution_count": 88,
   "id": "275b2caf",
   "metadata": {},
   "outputs": [
    {
     "data": {
      "text/html": [
       "<div>\n",
       "<style scoped>\n",
       "    .dataframe tbody tr th:only-of-type {\n",
       "        vertical-align: middle;\n",
       "    }\n",
       "\n",
       "    .dataframe tbody tr th {\n",
       "        vertical-align: top;\n",
       "    }\n",
       "\n",
       "    .dataframe thead th {\n",
       "        text-align: right;\n",
       "    }\n",
       "</style>\n",
       "<table border=\"1\" class=\"dataframe\">\n",
       "  <thead>\n",
       "    <tr style=\"text-align: right;\">\n",
       "      <th></th>\n",
       "      <th>python</th>\n",
       "      <th>Data Science</th>\n",
       "      <th>DBMS</th>\n",
       "    </tr>\n",
       "  </thead>\n",
       "  <tbody>\n",
       "    <tr>\n",
       "      <th>Siya</th>\n",
       "      <td>58</td>\n",
       "      <td>42</td>\n",
       "      <td>48</td>\n",
       "    </tr>\n",
       "  </tbody>\n",
       "</table>\n",
       "</div>"
      ],
      "text/plain": [
       "      python  Data Science  DBMS\n",
       "Siya      58            42    48"
      ]
     },
     "execution_count": 88,
     "metadata": {},
     "output_type": "execute_result"
    }
   ],
   "source": [
    "df[df.index.str.startswith('S')]"
   ]
  },
  {
   "cell_type": "code",
   "execution_count": null,
   "id": "ccfb49dd",
   "metadata": {},
   "outputs": [],
   "source": []
  },
  {
   "cell_type": "code",
   "execution_count": 61,
   "id": "c918a14d",
   "metadata": {},
   "outputs": [],
   "source": [
    "df1[df1>100]=100"
   ]
  },
  {
   "cell_type": "code",
   "execution_count": 62,
   "id": "e2e5a6d6",
   "metadata": {},
   "outputs": [
    {
     "data": {
      "text/html": [
       "<div>\n",
       "<style scoped>\n",
       "    .dataframe tbody tr th:only-of-type {\n",
       "        vertical-align: middle;\n",
       "    }\n",
       "\n",
       "    .dataframe tbody tr th {\n",
       "        vertical-align: top;\n",
       "    }\n",
       "\n",
       "    .dataframe thead th {\n",
       "        text-align: right;\n",
       "    }\n",
       "</style>\n",
       "<table border=\"1\" class=\"dataframe\">\n",
       "  <thead>\n",
       "    <tr style=\"text-align: right;\">\n",
       "      <th></th>\n",
       "      <th>python</th>\n",
       "      <th>Data Science</th>\n",
       "      <th>DBMS</th>\n",
       "    </tr>\n",
       "  </thead>\n",
       "  <tbody>\n",
       "    <tr>\n",
       "      <th>Riya</th>\n",
       "      <td>60</td>\n",
       "      <td>70</td>\n",
       "      <td>49</td>\n",
       "    </tr>\n",
       "    <tr>\n",
       "      <th>Siya</th>\n",
       "      <td>87</td>\n",
       "      <td>71</td>\n",
       "      <td>77</td>\n",
       "    </tr>\n",
       "    <tr>\n",
       "      <th>kiya</th>\n",
       "      <td>46</td>\n",
       "      <td>100</td>\n",
       "      <td>100</td>\n",
       "    </tr>\n",
       "    <tr>\n",
       "      <th>jiya</th>\n",
       "      <td>100</td>\n",
       "      <td>100</td>\n",
       "      <td>100</td>\n",
       "    </tr>\n",
       "  </tbody>\n",
       "</table>\n",
       "</div>"
      ],
      "text/plain": [
       "      python  Data Science  DBMS\n",
       "Riya      60            70    49\n",
       "Siya      87            71    77\n",
       "kiya      46           100   100\n",
       "jiya     100           100   100"
      ]
     },
     "execution_count": 62,
     "metadata": {},
     "output_type": "execute_result"
    }
   ],
   "source": [
    "df1[python]"
   ]
  },
  {
   "cell_type": "code",
   "execution_count": null,
   "id": "2ec0088c",
   "metadata": {},
   "outputs": [],
   "source": [
    "&   |    "
   ]
  },
  {
   "cell_type": "code",
   "execution_count": 141,
   "id": "8b33598b",
   "metadata": {},
   "outputs": [
    {
     "data": {
      "text/html": [
       "<div>\n",
       "<style scoped>\n",
       "    .dataframe tbody tr th:only-of-type {\n",
       "        vertical-align: middle;\n",
       "    }\n",
       "\n",
       "    .dataframe tbody tr th {\n",
       "        vertical-align: top;\n",
       "    }\n",
       "\n",
       "    .dataframe thead th {\n",
       "        text-align: right;\n",
       "    }\n",
       "</style>\n",
       "<table border=\"1\" class=\"dataframe\">\n",
       "  <thead>\n",
       "    <tr style=\"text-align: right;\">\n",
       "      <th></th>\n",
       "      <th>python</th>\n",
       "      <th>Data Science</th>\n",
       "      <th>DBMS</th>\n",
       "    </tr>\n",
       "  </thead>\n",
       "  <tbody>\n",
       "    <tr>\n",
       "      <th>Siya</th>\n",
       "      <td>92</td>\n",
       "      <td>63</td>\n",
       "      <td>83</td>\n",
       "    </tr>\n",
       "  </tbody>\n",
       "</table>\n",
       "</div>"
      ],
      "text/plain": [
       "      python  Data Science  DBMS\n",
       "Siya      92            63    83"
      ]
     },
     "execution_count": 141,
     "metadata": {},
     "output_type": "execute_result"
    }
   ],
   "source": [
    "df[(df['python']>50)  & (df['Data Science']>60)]"
   ]
  },
  {
   "cell_type": "code",
   "execution_count": 145,
   "id": "c0f88ae3",
   "metadata": {},
   "outputs": [
    {
     "data": {
      "text/html": [
       "<div>\n",
       "<style scoped>\n",
       "    .dataframe tbody tr th:only-of-type {\n",
       "        vertical-align: middle;\n",
       "    }\n",
       "\n",
       "    .dataframe tbody tr th {\n",
       "        vertical-align: top;\n",
       "    }\n",
       "\n",
       "    .dataframe thead th {\n",
       "        text-align: right;\n",
       "    }\n",
       "</style>\n",
       "<table border=\"1\" class=\"dataframe\">\n",
       "  <thead>\n",
       "    <tr style=\"text-align: right;\">\n",
       "      <th></th>\n",
       "      <th>python</th>\n",
       "      <th>Data Science</th>\n",
       "      <th>DBMS</th>\n",
       "    </tr>\n",
       "  </thead>\n",
       "  <tbody>\n",
       "    <tr>\n",
       "      <th>Siya</th>\n",
       "      <td>92</td>\n",
       "      <td>63</td>\n",
       "      <td>83</td>\n",
       "    </tr>\n",
       "  </tbody>\n",
       "</table>\n",
       "</div>"
      ],
      "text/plain": [
       "      python  Data Science  DBMS\n",
       "Siya      92            63    83"
      ]
     },
     "execution_count": 145,
     "metadata": {},
     "output_type": "execute_result"
    }
   ],
   "source": [
    "df[df.index.str.startswith('S')]"
   ]
  },
  {
   "cell_type": "code",
   "execution_count": 5,
   "id": "cfcb38e5",
   "metadata": {},
   "outputs": [],
   "source": [
    "df[\"total\"]=df['python']+df['Data Science']+df['DBMS']"
   ]
  },
  {
   "cell_type": "code",
   "execution_count": 7,
   "id": "9e75e442",
   "metadata": {},
   "outputs": [
    {
     "data": {
      "text/html": [
       "<div>\n",
       "<style scoped>\n",
       "    .dataframe tbody tr th:only-of-type {\n",
       "        vertical-align: middle;\n",
       "    }\n",
       "\n",
       "    .dataframe tbody tr th {\n",
       "        vertical-align: top;\n",
       "    }\n",
       "\n",
       "    .dataframe thead th {\n",
       "        text-align: right;\n",
       "    }\n",
       "</style>\n",
       "<table border=\"1\" class=\"dataframe\">\n",
       "  <thead>\n",
       "    <tr style=\"text-align: right;\">\n",
       "      <th></th>\n",
       "      <th>python</th>\n",
       "      <th>Data Science</th>\n",
       "      <th>DBMS</th>\n",
       "      <th>total</th>\n",
       "    </tr>\n",
       "  </thead>\n",
       "  <tbody>\n",
       "    <tr>\n",
       "      <th>Riya</th>\n",
       "      <td>28</td>\n",
       "      <td>44</td>\n",
       "      <td>35</td>\n",
       "      <td>107</td>\n",
       "    </tr>\n",
       "    <tr>\n",
       "      <th>Siya</th>\n",
       "      <td>93</td>\n",
       "      <td>11</td>\n",
       "      <td>67</td>\n",
       "      <td>171</td>\n",
       "    </tr>\n",
       "    <tr>\n",
       "      <th>kiya</th>\n",
       "      <td>66</td>\n",
       "      <td>21</td>\n",
       "      <td>68</td>\n",
       "      <td>155</td>\n",
       "    </tr>\n",
       "    <tr>\n",
       "      <th>jiya</th>\n",
       "      <td>59</td>\n",
       "      <td>83</td>\n",
       "      <td>4</td>\n",
       "      <td>146</td>\n",
       "    </tr>\n",
       "  </tbody>\n",
       "</table>\n",
       "</div>"
      ],
      "text/plain": [
       "      python  Data Science  DBMS  total\n",
       "Riya      28            44    35    107\n",
       "Siya      93            11    67    171\n",
       "kiya      66            21    68    155\n",
       "jiya      59            83     4    146"
      ]
     },
     "execution_count": 7,
     "metadata": {},
     "output_type": "execute_result"
    }
   ],
   "source": [
    "df"
   ]
  },
  {
   "cell_type": "code",
   "execution_count": 6,
   "id": "db01df46",
   "metadata": {},
   "outputs": [],
   "source": [
    "df['per']=df['total']/3"
   ]
  },
  {
   "cell_type": "code",
   "execution_count": 9,
   "id": "7e8a83c9",
   "metadata": {},
   "outputs": [
    {
     "data": {
      "text/html": [
       "<div>\n",
       "<style scoped>\n",
       "    .dataframe tbody tr th:only-of-type {\n",
       "        vertical-align: middle;\n",
       "    }\n",
       "\n",
       "    .dataframe tbody tr th {\n",
       "        vertical-align: top;\n",
       "    }\n",
       "\n",
       "    .dataframe thead th {\n",
       "        text-align: right;\n",
       "    }\n",
       "</style>\n",
       "<table border=\"1\" class=\"dataframe\">\n",
       "  <thead>\n",
       "    <tr style=\"text-align: right;\">\n",
       "      <th></th>\n",
       "      <th>python</th>\n",
       "      <th>Data Science</th>\n",
       "      <th>DBMS</th>\n",
       "      <th>total</th>\n",
       "      <th>per</th>\n",
       "    </tr>\n",
       "  </thead>\n",
       "  <tbody>\n",
       "    <tr>\n",
       "      <th>Riya</th>\n",
       "      <td>28</td>\n",
       "      <td>44</td>\n",
       "      <td>35</td>\n",
       "      <td>107</td>\n",
       "      <td>35.666667</td>\n",
       "    </tr>\n",
       "    <tr>\n",
       "      <th>Siya</th>\n",
       "      <td>93</td>\n",
       "      <td>11</td>\n",
       "      <td>67</td>\n",
       "      <td>171</td>\n",
       "      <td>57.000000</td>\n",
       "    </tr>\n",
       "    <tr>\n",
       "      <th>kiya</th>\n",
       "      <td>66</td>\n",
       "      <td>21</td>\n",
       "      <td>68</td>\n",
       "      <td>155</td>\n",
       "      <td>51.666667</td>\n",
       "    </tr>\n",
       "    <tr>\n",
       "      <th>jiya</th>\n",
       "      <td>59</td>\n",
       "      <td>83</td>\n",
       "      <td>4</td>\n",
       "      <td>146</td>\n",
       "      <td>48.666667</td>\n",
       "    </tr>\n",
       "  </tbody>\n",
       "</table>\n",
       "</div>"
      ],
      "text/plain": [
       "      python  Data Science  DBMS  total        per\n",
       "Riya      28            44    35    107  35.666667\n",
       "Siya      93            11    67    171  57.000000\n",
       "kiya      66            21    68    155  51.666667\n",
       "jiya      59            83     4    146  48.666667"
      ]
     },
     "execution_count": 9,
     "metadata": {},
     "output_type": "execute_result"
    }
   ],
   "source": [
    "df"
   ]
  },
  {
   "cell_type": "code",
   "execution_count": 121,
   "id": "c1a2e244",
   "metadata": {},
   "outputs": [],
   "source": [
    "df1[\"Result\"]=df1['per']>40"
   ]
  },
  {
   "cell_type": "code",
   "execution_count": 122,
   "id": "5d4aaaf1",
   "metadata": {},
   "outputs": [
    {
     "data": {
      "text/html": [
       "<div>\n",
       "<style scoped>\n",
       "    .dataframe tbody tr th:only-of-type {\n",
       "        vertical-align: middle;\n",
       "    }\n",
       "\n",
       "    .dataframe tbody tr th {\n",
       "        vertical-align: top;\n",
       "    }\n",
       "\n",
       "    .dataframe thead th {\n",
       "        text-align: right;\n",
       "    }\n",
       "</style>\n",
       "<table border=\"1\" class=\"dataframe\">\n",
       "  <thead>\n",
       "    <tr style=\"text-align: right;\">\n",
       "      <th></th>\n",
       "      <th>python</th>\n",
       "      <th>Data Science</th>\n",
       "      <th>DBMS</th>\n",
       "      <th>total</th>\n",
       "      <th>per</th>\n",
       "      <th>Result</th>\n",
       "    </tr>\n",
       "  </thead>\n",
       "  <tbody>\n",
       "    <tr>\n",
       "      <th>Riya</th>\n",
       "      <td>52</td>\n",
       "      <td>62</td>\n",
       "      <td>41</td>\n",
       "      <td>92</td>\n",
       "      <td>30.666667</td>\n",
       "      <td>False</td>\n",
       "    </tr>\n",
       "    <tr>\n",
       "      <th>Siya</th>\n",
       "      <td>79</td>\n",
       "      <td>63</td>\n",
       "      <td>69</td>\n",
       "      <td>148</td>\n",
       "      <td>49.333333</td>\n",
       "      <td>True</td>\n",
       "    </tr>\n",
       "    <tr>\n",
       "      <th>kiya</th>\n",
       "      <td>38</td>\n",
       "      <td>103</td>\n",
       "      <td>100</td>\n",
       "      <td>178</td>\n",
       "      <td>59.333333</td>\n",
       "      <td>True</td>\n",
       "    </tr>\n",
       "    <tr>\n",
       "      <th>jiya</th>\n",
       "      <td>103</td>\n",
       "      <td>97</td>\n",
       "      <td>108</td>\n",
       "      <td>245</td>\n",
       "      <td>81.666667</td>\n",
       "      <td>True</td>\n",
       "    </tr>\n",
       "  </tbody>\n",
       "</table>\n",
       "</div>"
      ],
      "text/plain": [
       "      python  Data Science  DBMS  total        per  Result\n",
       "Riya      52            62    41     92  30.666667   False\n",
       "Siya      79            63    69    148  49.333333    True\n",
       "kiya      38           103   100    178  59.333333    True\n",
       "jiya     103            97   108    245  81.666667    True"
      ]
     },
     "execution_count": 122,
     "metadata": {},
     "output_type": "execute_result"
    }
   ],
   "source": [
    "df1"
   ]
  },
  {
   "cell_type": "code",
   "execution_count": 134,
   "id": "ff9364fa",
   "metadata": {},
   "outputs": [],
   "source": [
    "df1.loc[df1['per']<34,'Result']=\"Fail\""
   ]
  },
  {
   "cell_type": "code",
   "execution_count": 135,
   "id": "7fe73cdd",
   "metadata": {},
   "outputs": [
    {
     "data": {
      "text/html": [
       "<div>\n",
       "<style scoped>\n",
       "    .dataframe tbody tr th:only-of-type {\n",
       "        vertical-align: middle;\n",
       "    }\n",
       "\n",
       "    .dataframe tbody tr th {\n",
       "        vertical-align: top;\n",
       "    }\n",
       "\n",
       "    .dataframe thead th {\n",
       "        text-align: right;\n",
       "    }\n",
       "</style>\n",
       "<table border=\"1\" class=\"dataframe\">\n",
       "  <thead>\n",
       "    <tr style=\"text-align: right;\">\n",
       "      <th></th>\n",
       "      <th>python</th>\n",
       "      <th>Data Science</th>\n",
       "      <th>DBMS</th>\n",
       "      <th>total</th>\n",
       "      <th>per</th>\n",
       "      <th>Result</th>\n",
       "    </tr>\n",
       "  </thead>\n",
       "  <tbody>\n",
       "    <tr>\n",
       "      <th>Riya</th>\n",
       "      <td>52</td>\n",
       "      <td>62</td>\n",
       "      <td>41</td>\n",
       "      <td>92</td>\n",
       "      <td>30.666667</td>\n",
       "      <td>Fail</td>\n",
       "    </tr>\n",
       "    <tr>\n",
       "      <th>Siya</th>\n",
       "      <td>79</td>\n",
       "      <td>63</td>\n",
       "      <td>69</td>\n",
       "      <td>148</td>\n",
       "      <td>49.333333</td>\n",
       "      <td>Pass</td>\n",
       "    </tr>\n",
       "    <tr>\n",
       "      <th>kiya</th>\n",
       "      <td>38</td>\n",
       "      <td>103</td>\n",
       "      <td>100</td>\n",
       "      <td>178</td>\n",
       "      <td>59.333333</td>\n",
       "      <td>Pass</td>\n",
       "    </tr>\n",
       "    <tr>\n",
       "      <th>jiya</th>\n",
       "      <td>103</td>\n",
       "      <td>97</td>\n",
       "      <td>108</td>\n",
       "      <td>245</td>\n",
       "      <td>81.666667</td>\n",
       "      <td>Pass</td>\n",
       "    </tr>\n",
       "  </tbody>\n",
       "</table>\n",
       "</div>"
      ],
      "text/plain": [
       "      python  Data Science  DBMS  total        per Result\n",
       "Riya      52            62    41     92  30.666667   Fail\n",
       "Siya      79            63    69    148  49.333333   Pass\n",
       "kiya      38           103   100    178  59.333333   Pass\n",
       "jiya     103            97   108    245  81.666667   Pass"
      ]
     },
     "execution_count": 135,
     "metadata": {},
     "output_type": "execute_result"
    }
   ],
   "source": [
    "df1"
   ]
  },
  {
   "cell_type": "code",
   "execution_count": 10,
   "id": "febd374f",
   "metadata": {},
   "outputs": [],
   "source": []
  },
  {
   "cell_type": "code",
   "execution_count": 12,
   "id": "e91e55b1",
   "metadata": {},
   "outputs": [],
   "source": [
    "df['Grade']=np.where(df['per']>35,\"E\",np.where(df['per']>45,'D',np.where(df['per']>55,'A','F')))"
   ]
  },
  {
   "cell_type": "code",
   "execution_count": 22,
   "id": "82447fd5",
   "metadata": {},
   "outputs": [],
   "source": [
    "df['Result']=np.where(df['per']<45,\"Fail\",\"pass\")"
   ]
  },
  {
   "cell_type": "code",
   "execution_count": 13,
   "id": "a092776d",
   "metadata": {},
   "outputs": [
    {
     "data": {
      "text/html": [
       "<div>\n",
       "<style scoped>\n",
       "    .dataframe tbody tr th:only-of-type {\n",
       "        vertical-align: middle;\n",
       "    }\n",
       "\n",
       "    .dataframe tbody tr th {\n",
       "        vertical-align: top;\n",
       "    }\n",
       "\n",
       "    .dataframe thead th {\n",
       "        text-align: right;\n",
       "    }\n",
       "</style>\n",
       "<table border=\"1\" class=\"dataframe\">\n",
       "  <thead>\n",
       "    <tr style=\"text-align: right;\">\n",
       "      <th></th>\n",
       "      <th>python</th>\n",
       "      <th>Data Science</th>\n",
       "      <th>DBMS</th>\n",
       "      <th>total</th>\n",
       "      <th>per</th>\n",
       "      <th>Result</th>\n",
       "      <th>Grade</th>\n",
       "    </tr>\n",
       "  </thead>\n",
       "  <tbody>\n",
       "    <tr>\n",
       "      <th>Riya</th>\n",
       "      <td>15</td>\n",
       "      <td>29</td>\n",
       "      <td>41</td>\n",
       "      <td>85</td>\n",
       "      <td>28.333333</td>\n",
       "      <td>Fail</td>\n",
       "      <td>F</td>\n",
       "    </tr>\n",
       "    <tr>\n",
       "      <th>Siya</th>\n",
       "      <td>51</td>\n",
       "      <td>41</td>\n",
       "      <td>70</td>\n",
       "      <td>162</td>\n",
       "      <td>54.000000</td>\n",
       "      <td>Pass</td>\n",
       "      <td>E</td>\n",
       "    </tr>\n",
       "    <tr>\n",
       "      <th>kiya</th>\n",
       "      <td>35</td>\n",
       "      <td>68</td>\n",
       "      <td>8</td>\n",
       "      <td>111</td>\n",
       "      <td>37.000000</td>\n",
       "      <td>Fail</td>\n",
       "      <td>E</td>\n",
       "    </tr>\n",
       "    <tr>\n",
       "      <th>jiya</th>\n",
       "      <td>45</td>\n",
       "      <td>21</td>\n",
       "      <td>1</td>\n",
       "      <td>67</td>\n",
       "      <td>22.333333</td>\n",
       "      <td>Fail</td>\n",
       "      <td>F</td>\n",
       "    </tr>\n",
       "  </tbody>\n",
       "</table>\n",
       "</div>"
      ],
      "text/plain": [
       "      python  Data Science  DBMS  total        per Result Grade\n",
       "Riya      15            29    41     85  28.333333   Fail     F\n",
       "Siya      51            41    70    162  54.000000   Pass     E\n",
       "kiya      35            68     8    111  37.000000   Fail     E\n",
       "jiya      45            21     1     67  22.333333   Fail     F"
      ]
     },
     "execution_count": 13,
     "metadata": {},
     "output_type": "execute_result"
    }
   ],
   "source": [
    "df"
   ]
  },
  {
   "cell_type": "code",
   "execution_count": null,
   "id": "8a791ed8",
   "metadata": {},
   "outputs": [],
   "source": []
  },
  {
   "cell_type": "code",
   "execution_count": 7,
   "id": "25a6deaf",
   "metadata": {},
   "outputs": [
    {
     "data": {
      "text/html": [
       "<div>\n",
       "<style scoped>\n",
       "    .dataframe tbody tr th:only-of-type {\n",
       "        vertical-align: middle;\n",
       "    }\n",
       "\n",
       "    .dataframe tbody tr th {\n",
       "        vertical-align: top;\n",
       "    }\n",
       "\n",
       "    .dataframe thead th {\n",
       "        text-align: right;\n",
       "    }\n",
       "</style>\n",
       "<table border=\"1\" class=\"dataframe\">\n",
       "  <thead>\n",
       "    <tr style=\"text-align: right;\">\n",
       "      <th></th>\n",
       "      <th>python</th>\n",
       "      <th>Data Science</th>\n",
       "      <th>DBMS</th>\n",
       "      <th>total</th>\n",
       "      <th>per</th>\n",
       "    </tr>\n",
       "  </thead>\n",
       "  <tbody>\n",
       "    <tr>\n",
       "      <th>Riya</th>\n",
       "      <td>15</td>\n",
       "      <td>29</td>\n",
       "      <td>41</td>\n",
       "      <td>85</td>\n",
       "      <td>28.333333</td>\n",
       "    </tr>\n",
       "    <tr>\n",
       "      <th>Siya</th>\n",
       "      <td>51</td>\n",
       "      <td>41</td>\n",
       "      <td>70</td>\n",
       "      <td>162</td>\n",
       "      <td>54.000000</td>\n",
       "    </tr>\n",
       "    <tr>\n",
       "      <th>kiya</th>\n",
       "      <td>35</td>\n",
       "      <td>68</td>\n",
       "      <td>8</td>\n",
       "      <td>111</td>\n",
       "      <td>37.000000</td>\n",
       "    </tr>\n",
       "    <tr>\n",
       "      <th>jiya</th>\n",
       "      <td>45</td>\n",
       "      <td>21</td>\n",
       "      <td>1</td>\n",
       "      <td>67</td>\n",
       "      <td>22.333333</td>\n",
       "    </tr>\n",
       "  </tbody>\n",
       "</table>\n",
       "</div>"
      ],
      "text/plain": [
       "      python  Data Science  DBMS  total        per\n",
       "Riya      15            29    41     85  28.333333\n",
       "Siya      51            41    70    162  54.000000\n",
       "kiya      35            68     8    111  37.000000\n",
       "jiya      45            21     1     67  22.333333"
      ]
     },
     "execution_count": 7,
     "metadata": {},
     "output_type": "execute_result"
    }
   ],
   "source": [
    "df"
   ]
  },
  {
   "cell_type": "code",
   "execution_count": 8,
   "id": "cf849d45",
   "metadata": {},
   "outputs": [],
   "source": [
    "df['Result']=np.where(df['per']<40,\"Fail\",\"Pass\")"
   ]
  },
  {
   "cell_type": "code",
   "execution_count": 14,
   "id": "8ace3431",
   "metadata": {},
   "outputs": [
    {
     "data": {
      "text/html": [
       "<div>\n",
       "<style scoped>\n",
       "    .dataframe tbody tr th:only-of-type {\n",
       "        vertical-align: middle;\n",
       "    }\n",
       "\n",
       "    .dataframe tbody tr th {\n",
       "        vertical-align: top;\n",
       "    }\n",
       "\n",
       "    .dataframe thead th {\n",
       "        text-align: right;\n",
       "    }\n",
       "</style>\n",
       "<table border=\"1\" class=\"dataframe\">\n",
       "  <thead>\n",
       "    <tr style=\"text-align: right;\">\n",
       "      <th></th>\n",
       "      <th>python</th>\n",
       "      <th>Data Science</th>\n",
       "      <th>DBMS</th>\n",
       "      <th>total</th>\n",
       "      <th>per</th>\n",
       "      <th>Result</th>\n",
       "      <th>Grade</th>\n",
       "    </tr>\n",
       "  </thead>\n",
       "  <tbody>\n",
       "    <tr>\n",
       "      <th>Riya</th>\n",
       "      <td>15</td>\n",
       "      <td>29</td>\n",
       "      <td>41</td>\n",
       "      <td>85</td>\n",
       "      <td>28.333333</td>\n",
       "      <td>Fail</td>\n",
       "      <td>F</td>\n",
       "    </tr>\n",
       "    <tr>\n",
       "      <th>Siya</th>\n",
       "      <td>51</td>\n",
       "      <td>41</td>\n",
       "      <td>70</td>\n",
       "      <td>162</td>\n",
       "      <td>54.000000</td>\n",
       "      <td>Pass</td>\n",
       "      <td>E</td>\n",
       "    </tr>\n",
       "    <tr>\n",
       "      <th>kiya</th>\n",
       "      <td>35</td>\n",
       "      <td>68</td>\n",
       "      <td>8</td>\n",
       "      <td>111</td>\n",
       "      <td>37.000000</td>\n",
       "      <td>Fail</td>\n",
       "      <td>E</td>\n",
       "    </tr>\n",
       "    <tr>\n",
       "      <th>jiya</th>\n",
       "      <td>45</td>\n",
       "      <td>21</td>\n",
       "      <td>1</td>\n",
       "      <td>67</td>\n",
       "      <td>22.333333</td>\n",
       "      <td>Fail</td>\n",
       "      <td>F</td>\n",
       "    </tr>\n",
       "  </tbody>\n",
       "</table>\n",
       "</div>"
      ],
      "text/plain": [
       "      python  Data Science  DBMS  total        per Result Grade\n",
       "Riya      15            29    41     85  28.333333   Fail     F\n",
       "Siya      51            41    70    162  54.000000   Pass     E\n",
       "kiya      35            68     8    111  37.000000   Fail     E\n",
       "jiya      45            21     1     67  22.333333   Fail     F"
      ]
     },
     "execution_count": 14,
     "metadata": {},
     "output_type": "execute_result"
    }
   ],
   "source": [
    "df"
   ]
  },
  {
   "cell_type": "code",
   "execution_count": 15,
   "id": "e299c069",
   "metadata": {},
   "outputs": [],
   "source": [
    "df['Grade']=np.where(df['per']>35,\"E\",np.where(df['per']>45,'D',np.where(df['per']>55,'A','F')))"
   ]
  },
  {
   "cell_type": "code",
   "execution_count": 1,
   "id": "492712fa",
   "metadata": {},
   "outputs": [
    {
     "ename": "NameError",
     "evalue": "name 'df' is not defined",
     "output_type": "error",
     "traceback": [
      "\u001b[1;31m---------------------------------------------------------------------------\u001b[0m",
      "\u001b[1;31mNameError\u001b[0m                                 Traceback (most recent call last)",
      "Cell \u001b[1;32mIn[1], line 1\u001b[0m\n\u001b[1;32m----> 1\u001b[0m df\u001b[38;5;241m.\u001b[39mloc[df[\u001b[38;5;124m'\u001b[39m\u001b[38;5;124mper\u001b[39m\u001b[38;5;124m'\u001b[39m]\u001b[38;5;241m>\u001b[39m\u001b[38;5;241m40\u001b[39m,\u001b[38;5;124m'\u001b[39m\u001b[38;5;124mGrade\u001b[39m\u001b[38;5;124m'\u001b[39m]\u001b[38;5;241m=\u001b[39m\u001b[38;5;124m'\u001b[39m\u001b[38;5;124mB\u001b[39m\u001b[38;5;124m'\u001b[39m\n\u001b[0;32m      2\u001b[0m df\u001b[38;5;241m.\u001b[39mloc[df[\u001b[38;5;124m'\u001b[39m\u001b[38;5;124mper\u001b[39m\u001b[38;5;124m'\u001b[39m]\u001b[38;5;241m>\u001b[39m\u001b[38;5;241m50\u001b[39m,\u001b[38;5;124m'\u001b[39m\u001b[38;5;124mGrade\u001b[39m\u001b[38;5;124m'\u001b[39m]\u001b[38;5;241m=\u001b[39m\u001b[38;5;124m'\u001b[39m\u001b[38;5;124mA\u001b[39m\u001b[38;5;124m'\u001b[39m\n",
      "\u001b[1;31mNameError\u001b[0m: name 'df' is not defined"
     ]
    }
   ],
   "source": [
    "df.loc[df['per']>40,'Grade']='B'\n",
    "df.loc[df['per']>50,'Grade']='A'"
   ]
  },
  {
   "cell_type": "code",
   "execution_count": 6,
   "id": "b89921af",
   "metadata": {},
   "outputs": [],
   "source": [
    "import pandas as pd"
   ]
  },
  {
   "cell_type": "code",
   "execution_count": 7,
   "id": "cd697599",
   "metadata": {},
   "outputs": [],
   "source": [
    "import numpy as np"
   ]
  },
  {
   "cell_type": "code",
   "execution_count": 8,
   "id": "13285a00",
   "metadata": {},
   "outputs": [
    {
     "name": "stderr",
     "output_type": "stream",
     "text": [
      "C:\\Users\\Tamanna.Soni\\AppData\\Local\\Temp\\ipykernel_9476\\1929819750.py:1: DtypeWarning: Columns (3,4,5,6,12) have mixed types. Specify dtype option on import or set low_memory=False.\n",
      "  df=pd.read_csv(\"C:/Users/Tamanna.Soni/Downloads/datasets DS/Salaries.csv\")\n"
     ]
    }
   ],
   "source": [
    "df=pd.read_csv(\"C:/Users/Tamanna.Soni/Downloads/datasets DS/Salaries.csv\")"
   ]
  },
  {
   "cell_type": "code",
   "execution_count": 73,
   "id": "78ba8449",
   "metadata": {},
   "outputs": [
    {
     "name": "stdout",
     "output_type": "stream",
     "text": [
      "<class 'pandas.core.frame.DataFrame'>\n",
      "RangeIndex: 148654 entries, 0 to 148653\n",
      "Data columns (total 13 columns):\n",
      " #   Column            Non-Null Count   Dtype  \n",
      "---  ------            --------------   -----  \n",
      " 0   Id                148654 non-null  int64  \n",
      " 1   EmployeeName      148654 non-null  object \n",
      " 2   JobTitle          148654 non-null  object \n",
      " 3   BasePay           148049 non-null  object \n",
      " 4   OvertimePay       148654 non-null  object \n",
      " 5   OtherPay          148654 non-null  object \n",
      " 6   Benefits          112495 non-null  object \n",
      " 7   TotalPay          148654 non-null  float64\n",
      " 8   TotalPayBenefits  148654 non-null  float64\n",
      " 9   Year              148654 non-null  int64  \n",
      " 10  Notes             0 non-null       float64\n",
      " 11  Agency            148654 non-null  object \n",
      " 12  Status            38119 non-null   object \n",
      "dtypes: float64(3), int64(2), object(8)\n",
      "memory usage: 14.7+ MB\n"
     ]
    }
   ],
   "source": [
    "df.info()"
   ]
  },
  {
   "cell_type": "code",
   "execution_count": 80,
   "id": "2d194902",
   "metadata": {},
   "outputs": [],
   "source": [
    "df=df.replace('Not Provided',np.nan)"
   ]
  },
  {
   "cell_type": "code",
   "execution_count": 81,
   "id": "121a8365",
   "metadata": {},
   "outputs": [],
   "source": [
    "df=df.replace('Not provided',np.nan)"
   ]
  },
  {
   "cell_type": "code",
   "execution_count": 82,
   "id": "f50ea3a7",
   "metadata": {},
   "outputs": [
    {
     "name": "stdout",
     "output_type": "stream",
     "text": [
      "<class 'pandas.core.frame.DataFrame'>\n",
      "RangeIndex: 148654 entries, 0 to 148653\n",
      "Data columns (total 13 columns):\n",
      " #   Column            Non-Null Count   Dtype  \n",
      "---  ------            --------------   -----  \n",
      " 0   Id                148654 non-null  int64  \n",
      " 1   EmployeeName      148648 non-null  object \n",
      " 2   JobTitle          148650 non-null  object \n",
      " 3   BasePay           148045 non-null  object \n",
      " 4   OvertimePay       148650 non-null  object \n",
      " 5   OtherPay          148650 non-null  object \n",
      " 6   Benefits          112491 non-null  object \n",
      " 7   TotalPay          148654 non-null  float64\n",
      " 8   TotalPayBenefits  148654 non-null  float64\n",
      " 9   Year              148654 non-null  int64  \n",
      " 10  Notes             0 non-null       float64\n",
      " 11  Agency            148654 non-null  object \n",
      " 12  Status            38119 non-null   object \n",
      "dtypes: float64(3), int64(2), object(8)\n",
      "memory usage: 14.7+ MB\n"
     ]
    }
   ],
   "source": [
    "df.info()"
   ]
  },
  {
   "cell_type": "code",
   "execution_count": 66,
   "id": "3902a65e",
   "metadata": {},
   "outputs": [],
   "source": [
    "df['BasePay']=df['BasePay'].astype('float')"
   ]
  },
  {
   "cell_type": "code",
   "execution_count": 67,
   "id": "e79c9d87",
   "metadata": {},
   "outputs": [
    {
     "data": {
      "text/plain": [
       "dtype('float64')"
      ]
     },
     "execution_count": 67,
     "metadata": {},
     "output_type": "execute_result"
    }
   ],
   "source": [
    "df['BasePay'].dtype"
   ]
  },
  {
   "cell_type": "code",
   "execution_count": 68,
   "id": "0398ea27",
   "metadata": {},
   "outputs": [
    {
     "data": {
      "text/plain": [
       "66325.4488404877"
      ]
     },
     "execution_count": 68,
     "metadata": {},
     "output_type": "execute_result"
    }
   ],
   "source": [
    "df['BasePay'].mean()"
   ]
  },
  {
   "cell_type": "code",
   "execution_count": 76,
   "id": "65da09ac",
   "metadata": {},
   "outputs": [],
   "source": [
    "df_year=df.groupby('Year')"
   ]
  },
  {
   "cell_type": "code",
   "execution_count": 85,
   "id": "7305787e",
   "metadata": {},
   "outputs": [
    {
     "data": {
      "text/html": [
       "<div>\n",
       "<style scoped>\n",
       "    .dataframe tbody tr th:only-of-type {\n",
       "        vertical-align: middle;\n",
       "    }\n",
       "\n",
       "    .dataframe tbody tr th {\n",
       "        vertical-align: top;\n",
       "    }\n",
       "\n",
       "    .dataframe thead th {\n",
       "        text-align: right;\n",
       "    }\n",
       "</style>\n",
       "<table border=\"1\" class=\"dataframe\">\n",
       "  <thead>\n",
       "    <tr style=\"text-align: right;\">\n",
       "      <th></th>\n",
       "      <th>Year</th>\n",
       "      <th>2011</th>\n",
       "      <th>2012</th>\n",
       "      <th>2013</th>\n",
       "      <th>2014</th>\n",
       "    </tr>\n",
       "  </thead>\n",
       "  <tbody>\n",
       "    <tr>\n",
       "      <th rowspan=\"8\" valign=\"top\">Id</th>\n",
       "      <th>count</th>\n",
       "      <td>36159.000000</td>\n",
       "      <td>36766.000000</td>\n",
       "      <td>37606.000000</td>\n",
       "      <td>38123.000000</td>\n",
       "    </tr>\n",
       "    <tr>\n",
       "      <th>mean</th>\n",
       "      <td>18080.000000</td>\n",
       "      <td>54542.500000</td>\n",
       "      <td>91728.500000</td>\n",
       "      <td>129593.000000</td>\n",
       "    </tr>\n",
       "    <tr>\n",
       "      <th>std</th>\n",
       "      <td>10438.348528</td>\n",
       "      <td>10613.574335</td>\n",
       "      <td>10856.061448</td>\n",
       "      <td>11005.306493</td>\n",
       "    </tr>\n",
       "    <tr>\n",
       "      <th>min</th>\n",
       "      <td>1.000000</td>\n",
       "      <td>36160.000000</td>\n",
       "      <td>72926.000000</td>\n",
       "      <td>110532.000000</td>\n",
       "    </tr>\n",
       "    <tr>\n",
       "      <th>25%</th>\n",
       "      <td>9040.500000</td>\n",
       "      <td>45351.250000</td>\n",
       "      <td>82327.250000</td>\n",
       "      <td>120062.500000</td>\n",
       "    </tr>\n",
       "    <tr>\n",
       "      <th>50%</th>\n",
       "      <td>18080.000000</td>\n",
       "      <td>54542.500000</td>\n",
       "      <td>91728.500000</td>\n",
       "      <td>129593.000000</td>\n",
       "    </tr>\n",
       "    <tr>\n",
       "      <th>75%</th>\n",
       "      <td>27119.500000</td>\n",
       "      <td>63733.750000</td>\n",
       "      <td>101129.750000</td>\n",
       "      <td>139123.500000</td>\n",
       "    </tr>\n",
       "    <tr>\n",
       "      <th>max</th>\n",
       "      <td>36159.000000</td>\n",
       "      <td>72925.000000</td>\n",
       "      <td>110531.000000</td>\n",
       "      <td>148654.000000</td>\n",
       "    </tr>\n",
       "    <tr>\n",
       "      <th rowspan=\"8\" valign=\"top\">TotalPay</th>\n",
       "      <th>count</th>\n",
       "      <td>36159.000000</td>\n",
       "      <td>36766.000000</td>\n",
       "      <td>37606.000000</td>\n",
       "      <td>38123.000000</td>\n",
       "    </tr>\n",
       "    <tr>\n",
       "      <th>mean</th>\n",
       "      <td>71744.103871</td>\n",
       "      <td>74113.262265</td>\n",
       "      <td>77611.443142</td>\n",
       "      <td>75463.918140</td>\n",
       "    </tr>\n",
       "    <tr>\n",
       "      <th>std</th>\n",
       "      <td>47498.706594</td>\n",
       "      <td>49523.904319</td>\n",
       "      <td>52854.774783</td>\n",
       "      <td>51697.713029</td>\n",
       "    </tr>\n",
       "    <tr>\n",
       "      <th>min</th>\n",
       "      <td>0.000000</td>\n",
       "      <td>0.000000</td>\n",
       "      <td>0.000000</td>\n",
       "      <td>-618.130000</td>\n",
       "    </tr>\n",
       "    <tr>\n",
       "      <th>25%</th>\n",
       "      <td>36810.760000</td>\n",
       "      <td>37560.607500</td>\n",
       "      <td>36754.995000</td>\n",
       "      <td>33436.210000</td>\n",
       "    </tr>\n",
       "    <tr>\n",
       "      <th>50%</th>\n",
       "      <td>68213.240000</td>\n",
       "      <td>70714.680000</td>\n",
       "      <td>74500.015000</td>\n",
       "      <td>72359.980000</td>\n",
       "    </tr>\n",
       "    <tr>\n",
       "      <th>75%</th>\n",
       "      <td>102512.680000</td>\n",
       "      <td>104099.170000</td>\n",
       "      <td>109637.670000</td>\n",
       "      <td>107974.445000</td>\n",
       "    </tr>\n",
       "    <tr>\n",
       "      <th>max</th>\n",
       "      <td>567595.430000</td>\n",
       "      <td>362844.660000</td>\n",
       "      <td>347102.320000</td>\n",
       "      <td>471952.640000</td>\n",
       "    </tr>\n",
       "    <tr>\n",
       "      <th rowspan=\"8\" valign=\"top\">TotalPayBenefits</th>\n",
       "      <th>count</th>\n",
       "      <td>36159.000000</td>\n",
       "      <td>36766.000000</td>\n",
       "      <td>37606.000000</td>\n",
       "      <td>38123.000000</td>\n",
       "    </tr>\n",
       "    <tr>\n",
       "      <th>mean</th>\n",
       "      <td>71744.103871</td>\n",
       "      <td>100553.229232</td>\n",
       "      <td>101440.519714</td>\n",
       "      <td>100250.918884</td>\n",
       "    </tr>\n",
       "    <tr>\n",
       "      <th>std</th>\n",
       "      <td>47498.706594</td>\n",
       "      <td>63555.796681</td>\n",
       "      <td>66390.034642</td>\n",
       "      <td>66238.852887</td>\n",
       "    </tr>\n",
       "    <tr>\n",
       "      <th>min</th>\n",
       "      <td>0.000000</td>\n",
       "      <td>1.910000</td>\n",
       "      <td>-33.890000</td>\n",
       "      <td>-618.130000</td>\n",
       "    </tr>\n",
       "    <tr>\n",
       "      <th>25%</th>\n",
       "      <td>36810.760000</td>\n",
       "      <td>51743.092500</td>\n",
       "      <td>48259.600000</td>\n",
       "      <td>44199.990000</td>\n",
       "    </tr>\n",
       "    <tr>\n",
       "      <th>50%</th>\n",
       "      <td>68213.240000</td>\n",
       "      <td>101751.290000</td>\n",
       "      <td>101969.445000</td>\n",
       "      <td>101105.370000</td>\n",
       "    </tr>\n",
       "    <tr>\n",
       "      <th>75%</th>\n",
       "      <td>102512.680000</td>\n",
       "      <td>142396.332500</td>\n",
       "      <td>142793.687500</td>\n",
       "      <td>142746.950000</td>\n",
       "    </tr>\n",
       "    <tr>\n",
       "      <th>max</th>\n",
       "      <td>567595.430000</td>\n",
       "      <td>407274.780000</td>\n",
       "      <td>425815.280000</td>\n",
       "      <td>510732.680000</td>\n",
       "    </tr>\n",
       "    <tr>\n",
       "      <th rowspan=\"8\" valign=\"top\">Notes</th>\n",
       "      <th>count</th>\n",
       "      <td>0.000000</td>\n",
       "      <td>0.000000</td>\n",
       "      <td>0.000000</td>\n",
       "      <td>0.000000</td>\n",
       "    </tr>\n",
       "    <tr>\n",
       "      <th>mean</th>\n",
       "      <td>NaN</td>\n",
       "      <td>NaN</td>\n",
       "      <td>NaN</td>\n",
       "      <td>NaN</td>\n",
       "    </tr>\n",
       "    <tr>\n",
       "      <th>std</th>\n",
       "      <td>NaN</td>\n",
       "      <td>NaN</td>\n",
       "      <td>NaN</td>\n",
       "      <td>NaN</td>\n",
       "    </tr>\n",
       "    <tr>\n",
       "      <th>min</th>\n",
       "      <td>NaN</td>\n",
       "      <td>NaN</td>\n",
       "      <td>NaN</td>\n",
       "      <td>NaN</td>\n",
       "    </tr>\n",
       "    <tr>\n",
       "      <th>25%</th>\n",
       "      <td>NaN</td>\n",
       "      <td>NaN</td>\n",
       "      <td>NaN</td>\n",
       "      <td>NaN</td>\n",
       "    </tr>\n",
       "    <tr>\n",
       "      <th>50%</th>\n",
       "      <td>NaN</td>\n",
       "      <td>NaN</td>\n",
       "      <td>NaN</td>\n",
       "      <td>NaN</td>\n",
       "    </tr>\n",
       "    <tr>\n",
       "      <th>75%</th>\n",
       "      <td>NaN</td>\n",
       "      <td>NaN</td>\n",
       "      <td>NaN</td>\n",
       "      <td>NaN</td>\n",
       "    </tr>\n",
       "    <tr>\n",
       "      <th>max</th>\n",
       "      <td>NaN</td>\n",
       "      <td>NaN</td>\n",
       "      <td>NaN</td>\n",
       "      <td>NaN</td>\n",
       "    </tr>\n",
       "  </tbody>\n",
       "</table>\n",
       "</div>"
      ],
      "text/plain": [
       "Year                             2011           2012           2013  \\\n",
       "Id               count   36159.000000   36766.000000   37606.000000   \n",
       "                 mean    18080.000000   54542.500000   91728.500000   \n",
       "                 std     10438.348528   10613.574335   10856.061448   \n",
       "                 min         1.000000   36160.000000   72926.000000   \n",
       "                 25%      9040.500000   45351.250000   82327.250000   \n",
       "                 50%     18080.000000   54542.500000   91728.500000   \n",
       "                 75%     27119.500000   63733.750000  101129.750000   \n",
       "                 max     36159.000000   72925.000000  110531.000000   \n",
       "TotalPay         count   36159.000000   36766.000000   37606.000000   \n",
       "                 mean    71744.103871   74113.262265   77611.443142   \n",
       "                 std     47498.706594   49523.904319   52854.774783   \n",
       "                 min         0.000000       0.000000       0.000000   \n",
       "                 25%     36810.760000   37560.607500   36754.995000   \n",
       "                 50%     68213.240000   70714.680000   74500.015000   \n",
       "                 75%    102512.680000  104099.170000  109637.670000   \n",
       "                 max    567595.430000  362844.660000  347102.320000   \n",
       "TotalPayBenefits count   36159.000000   36766.000000   37606.000000   \n",
       "                 mean    71744.103871  100553.229232  101440.519714   \n",
       "                 std     47498.706594   63555.796681   66390.034642   \n",
       "                 min         0.000000       1.910000     -33.890000   \n",
       "                 25%     36810.760000   51743.092500   48259.600000   \n",
       "                 50%     68213.240000  101751.290000  101969.445000   \n",
       "                 75%    102512.680000  142396.332500  142793.687500   \n",
       "                 max    567595.430000  407274.780000  425815.280000   \n",
       "Notes            count       0.000000       0.000000       0.000000   \n",
       "                 mean             NaN            NaN            NaN   \n",
       "                 std              NaN            NaN            NaN   \n",
       "                 min              NaN            NaN            NaN   \n",
       "                 25%              NaN            NaN            NaN   \n",
       "                 50%              NaN            NaN            NaN   \n",
       "                 75%              NaN            NaN            NaN   \n",
       "                 max              NaN            NaN            NaN   \n",
       "\n",
       "Year                             2014  \n",
       "Id               count   38123.000000  \n",
       "                 mean   129593.000000  \n",
       "                 std     11005.306493  \n",
       "                 min    110532.000000  \n",
       "                 25%    120062.500000  \n",
       "                 50%    129593.000000  \n",
       "                 75%    139123.500000  \n",
       "                 max    148654.000000  \n",
       "TotalPay         count   38123.000000  \n",
       "                 mean    75463.918140  \n",
       "                 std     51697.713029  \n",
       "                 min      -618.130000  \n",
       "                 25%     33436.210000  \n",
       "                 50%     72359.980000  \n",
       "                 75%    107974.445000  \n",
       "                 max    471952.640000  \n",
       "TotalPayBenefits count   38123.000000  \n",
       "                 mean   100250.918884  \n",
       "                 std     66238.852887  \n",
       "                 min      -618.130000  \n",
       "                 25%     44199.990000  \n",
       "                 50%    101105.370000  \n",
       "                 75%    142746.950000  \n",
       "                 max    510732.680000  \n",
       "Notes            count       0.000000  \n",
       "                 mean             NaN  \n",
       "                 std              NaN  \n",
       "                 min              NaN  \n",
       "                 25%              NaN  \n",
       "                 50%              NaN  \n",
       "                 75%              NaN  \n",
       "                 max              NaN  "
      ]
     },
     "execution_count": 85,
     "metadata": {},
     "output_type": "execute_result"
    }
   ],
   "source": [
    "df_year.describe().transpose()"
   ]
  },
  {
   "cell_type": "code",
   "execution_count": 10,
   "id": "2dd6b9fd",
   "metadata": {},
   "outputs": [
    {
     "ename": "TypeError",
     "evalue": "DataFrame.dropna() takes 1 positional argument but 2 were given",
     "output_type": "error",
     "traceback": [
      "\u001b[1;31m---------------------------------------------------------------------------\u001b[0m",
      "\u001b[1;31mTypeError\u001b[0m                                 Traceback (most recent call last)",
      "Cell \u001b[1;32mIn[10], line 1\u001b[0m\n\u001b[1;32m----> 1\u001b[0m df\u001b[38;5;241m.\u001b[39mdropna(\u001b[38;5;241m1\u001b[39m)\n",
      "\u001b[1;31mTypeError\u001b[0m: DataFrame.dropna() takes 1 positional argument but 2 were given"
     ]
    }
   ],
   "source": [
    "df.dropna(1)"
   ]
  },
  {
   "cell_type": "code",
   "execution_count": 17,
   "id": "02ccd73c",
   "metadata": {},
   "outputs": [
    {
     "data": {
      "text/html": [
       "<div>\n",
       "<style scoped>\n",
       "    .dataframe tbody tr th:only-of-type {\n",
       "        vertical-align: middle;\n",
       "    }\n",
       "\n",
       "    .dataframe tbody tr th {\n",
       "        vertical-align: top;\n",
       "    }\n",
       "\n",
       "    .dataframe thead th {\n",
       "        text-align: right;\n",
       "    }\n",
       "</style>\n",
       "<table border=\"1\" class=\"dataframe\">\n",
       "  <thead>\n",
       "    <tr style=\"text-align: right;\">\n",
       "      <th></th>\n",
       "      <th>sid</th>\n",
       "      <th>sname</th>\n",
       "    </tr>\n",
       "  </thead>\n",
       "  <tbody>\n",
       "    <tr>\n",
       "      <th>0</th>\n",
       "      <td>123</td>\n",
       "      <td>Gajodhar</td>\n",
       "    </tr>\n",
       "    <tr>\n",
       "      <th>1</th>\n",
       "      <td>456</td>\n",
       "      <td>Bheem</td>\n",
       "    </tr>\n",
       "    <tr>\n",
       "      <th>2</th>\n",
       "      <td>789</td>\n",
       "      <td>Ghatotkach</td>\n",
       "    </tr>\n",
       "  </tbody>\n",
       "</table>\n",
       "</div>"
      ],
      "text/plain": [
       "   sid       sname\n",
       "0  123    Gajodhar\n",
       "1  456       Bheem\n",
       "2  789  Ghatotkach"
      ]
     },
     "metadata": {},
     "output_type": "display_data"
    },
    {
     "data": {
      "text/html": [
       "<div>\n",
       "<style scoped>\n",
       "    .dataframe tbody tr th:only-of-type {\n",
       "        vertical-align: middle;\n",
       "    }\n",
       "\n",
       "    .dataframe tbody tr th {\n",
       "        vertical-align: top;\n",
       "    }\n",
       "\n",
       "    .dataframe thead th {\n",
       "        text-align: right;\n",
       "    }\n",
       "</style>\n",
       "<table border=\"1\" class=\"dataframe\">\n",
       "  <thead>\n",
       "    <tr style=\"text-align: right;\">\n",
       "      <th></th>\n",
       "      <th>sid</th>\n",
       "      <th>smarks</th>\n",
       "    </tr>\n",
       "  </thead>\n",
       "  <tbody>\n",
       "    <tr>\n",
       "      <th>0</th>\n",
       "      <td>123</td>\n",
       "      <td>88</td>\n",
       "    </tr>\n",
       "    <tr>\n",
       "      <th>1</th>\n",
       "      <td>456</td>\n",
       "      <td>55</td>\n",
       "    </tr>\n",
       "    <tr>\n",
       "      <th>2</th>\n",
       "      <td>789</td>\n",
       "      <td>99</td>\n",
       "    </tr>\n",
       "  </tbody>\n",
       "</table>\n",
       "</div>"
      ],
      "text/plain": [
       "   sid  smarks\n",
       "0  123      88\n",
       "1  456      55\n",
       "2  789      99"
      ]
     },
     "metadata": {},
     "output_type": "display_data"
    }
   ],
   "source": [
    "data1= {'sid': [123,456,789],\n",
    "       'sname':['Gajodhar','Bheem','Ghatotkach']}\n",
    "data2= {'sid': [123,456,789],\n",
    "       'smarks':[88,55,99]}\n",
    "df=pd.DataFrame(data1)\n",
    "df2=pd.DataFrame(data2)\n",
    "df\n",
    "display(df,df2)"
   ]
  },
  {
   "cell_type": "code",
   "execution_count": 21,
   "id": "06f521be",
   "metadata": {},
   "outputs": [
    {
     "ename": "TypeError",
     "evalue": "Can only merge Series or DataFrame objects, a <class 'dict'> was passed",
     "output_type": "error",
     "traceback": [
      "\u001b[1;31m---------------------------------------------------------------------------\u001b[0m",
      "\u001b[1;31mTypeError\u001b[0m                                 Traceback (most recent call last)",
      "Cell \u001b[1;32mIn[21], line 1\u001b[0m\n\u001b[1;32m----> 1\u001b[0m pd\u001b[38;5;241m.\u001b[39mmerge(data1,data2)\n",
      "File \u001b[1;32m~\\anaconda3\\Lib\\site-packages\\pandas\\core\\reshape\\merge.py:148\u001b[0m, in \u001b[0;36mmerge\u001b[1;34m(left, right, how, on, left_on, right_on, left_index, right_index, sort, suffixes, copy, indicator, validate)\u001b[0m\n\u001b[0;32m    131\u001b[0m \u001b[38;5;129m@Substitution\u001b[39m(\u001b[38;5;124m\"\u001b[39m\u001b[38;5;130;01m\\n\u001b[39;00m\u001b[38;5;124mleft : DataFrame or named Series\u001b[39m\u001b[38;5;124m\"\u001b[39m)\n\u001b[0;32m    132\u001b[0m \u001b[38;5;129m@Appender\u001b[39m(_merge_doc, indents\u001b[38;5;241m=\u001b[39m\u001b[38;5;241m0\u001b[39m)\n\u001b[0;32m    133\u001b[0m \u001b[38;5;28;01mdef\u001b[39;00m \u001b[38;5;21mmerge\u001b[39m(\n\u001b[1;32m   (...)\u001b[0m\n\u001b[0;32m    146\u001b[0m     validate: \u001b[38;5;28mstr\u001b[39m \u001b[38;5;241m|\u001b[39m \u001b[38;5;28;01mNone\u001b[39;00m \u001b[38;5;241m=\u001b[39m \u001b[38;5;28;01mNone\u001b[39;00m,\n\u001b[0;32m    147\u001b[0m ) \u001b[38;5;241m-\u001b[39m\u001b[38;5;241m>\u001b[39m DataFrame:\n\u001b[1;32m--> 148\u001b[0m     op \u001b[38;5;241m=\u001b[39m _MergeOperation(\n\u001b[0;32m    149\u001b[0m         left,\n\u001b[0;32m    150\u001b[0m         right,\n\u001b[0;32m    151\u001b[0m         how\u001b[38;5;241m=\u001b[39mhow,\n\u001b[0;32m    152\u001b[0m         on\u001b[38;5;241m=\u001b[39mon,\n\u001b[0;32m    153\u001b[0m         left_on\u001b[38;5;241m=\u001b[39mleft_on,\n\u001b[0;32m    154\u001b[0m         right_on\u001b[38;5;241m=\u001b[39mright_on,\n\u001b[0;32m    155\u001b[0m         left_index\u001b[38;5;241m=\u001b[39mleft_index,\n\u001b[0;32m    156\u001b[0m         right_index\u001b[38;5;241m=\u001b[39mright_index,\n\u001b[0;32m    157\u001b[0m         sort\u001b[38;5;241m=\u001b[39msort,\n\u001b[0;32m    158\u001b[0m         suffixes\u001b[38;5;241m=\u001b[39msuffixes,\n\u001b[0;32m    159\u001b[0m         indicator\u001b[38;5;241m=\u001b[39mindicator,\n\u001b[0;32m    160\u001b[0m         validate\u001b[38;5;241m=\u001b[39mvalidate,\n\u001b[0;32m    161\u001b[0m     )\n\u001b[0;32m    162\u001b[0m     \u001b[38;5;28;01mreturn\u001b[39;00m op\u001b[38;5;241m.\u001b[39mget_result(copy\u001b[38;5;241m=\u001b[39mcopy)\n",
      "File \u001b[1;32m~\\anaconda3\\Lib\\site-packages\\pandas\\core\\reshape\\merge.py:680\u001b[0m, in \u001b[0;36m_MergeOperation.__init__\u001b[1;34m(self, left, right, how, on, left_on, right_on, axis, left_index, right_index, sort, suffixes, indicator, validate)\u001b[0m\n\u001b[0;32m    664\u001b[0m \u001b[38;5;28;01mdef\u001b[39;00m \u001b[38;5;21m__init__\u001b[39m(\n\u001b[0;32m    665\u001b[0m     \u001b[38;5;28mself\u001b[39m,\n\u001b[0;32m    666\u001b[0m     left: DataFrame \u001b[38;5;241m|\u001b[39m Series,\n\u001b[1;32m   (...)\u001b[0m\n\u001b[0;32m    678\u001b[0m     validate: \u001b[38;5;28mstr\u001b[39m \u001b[38;5;241m|\u001b[39m \u001b[38;5;28;01mNone\u001b[39;00m \u001b[38;5;241m=\u001b[39m \u001b[38;5;28;01mNone\u001b[39;00m,\n\u001b[0;32m    679\u001b[0m ) \u001b[38;5;241m-\u001b[39m\u001b[38;5;241m>\u001b[39m \u001b[38;5;28;01mNone\u001b[39;00m:\n\u001b[1;32m--> 680\u001b[0m     _left \u001b[38;5;241m=\u001b[39m _validate_operand(left)\n\u001b[0;32m    681\u001b[0m     _right \u001b[38;5;241m=\u001b[39m _validate_operand(right)\n\u001b[0;32m    682\u001b[0m     \u001b[38;5;28mself\u001b[39m\u001b[38;5;241m.\u001b[39mleft \u001b[38;5;241m=\u001b[39m \u001b[38;5;28mself\u001b[39m\u001b[38;5;241m.\u001b[39morig_left \u001b[38;5;241m=\u001b[39m _left\n",
      "File \u001b[1;32m~\\anaconda3\\Lib\\site-packages\\pandas\\core\\reshape\\merge.py:2575\u001b[0m, in \u001b[0;36m_validate_operand\u001b[1;34m(obj)\u001b[0m\n\u001b[0;32m   2573\u001b[0m     \u001b[38;5;28;01mreturn\u001b[39;00m obj\u001b[38;5;241m.\u001b[39mto_frame()\n\u001b[0;32m   2574\u001b[0m \u001b[38;5;28;01melse\u001b[39;00m:\n\u001b[1;32m-> 2575\u001b[0m     \u001b[38;5;28;01mraise\u001b[39;00m \u001b[38;5;167;01mTypeError\u001b[39;00m(\n\u001b[0;32m   2576\u001b[0m         \u001b[38;5;124mf\u001b[39m\u001b[38;5;124m\"\u001b[39m\u001b[38;5;124mCan only merge Series or DataFrame objects, a \u001b[39m\u001b[38;5;132;01m{\u001b[39;00m\u001b[38;5;28mtype\u001b[39m(obj)\u001b[38;5;132;01m}\u001b[39;00m\u001b[38;5;124m was passed\u001b[39m\u001b[38;5;124m\"\u001b[39m\n\u001b[0;32m   2577\u001b[0m     )\n",
      "\u001b[1;31mTypeError\u001b[0m: Can only merge Series or DataFrame objects, a <class 'dict'> was passed"
     ]
    }
   ],
   "source": [
    "pd.merge(data1,data2)"
   ]
  },
  {
   "cell_type": "code",
   "execution_count": 1,
   "id": "f28aeed4",
   "metadata": {},
   "outputs": [
    {
     "ename": "SyntaxError",
     "evalue": "invalid syntax (3953078525.py, line 1)",
     "output_type": "error",
     "traceback": [
      "\u001b[1;36m  Cell \u001b[1;32mIn[1], line 1\u001b[1;36m\u001b[0m\n\u001b[1;33m    Pandas was developed in the context of financial modeling, so as you might expect, it\u001b[0m\n\u001b[1;37m           ^\u001b[0m\n\u001b[1;31mSyntaxError\u001b[0m\u001b[1;31m:\u001b[0m invalid syntax\n"
     ]
    }
   ],
   "source": [
    "Pandas was developed in the context of financial modeling, so as you might expect, it\n",
    "contains a fairly extensive set of tools for working with dates, times, and time- indexed data "
   ]
  },
  {
   "cell_type": "code",
   "execution_count": 2,
   "id": "f29088f2",
   "metadata": {},
   "outputs": [],
   "source": [
    "import seaborn as sns"
   ]
  },
  {
   "cell_type": "code",
   "execution_count": 3,
   "id": "a6bbd0a9",
   "metadata": {},
   "outputs": [
    {
     "data": {
      "text/plain": [
       "'C:\\\\Users\\\\Tamanna.Soni\\\\AppData\\\\Local\\\\seaborn\\\\seaborn\\\\Cache'"
      ]
     },
     "execution_count": 3,
     "metadata": {},
     "output_type": "execute_result"
    }
   ],
   "source": [
    "sns.get_data_home()"
   ]
  },
  {
   "cell_type": "code",
   "execution_count": 4,
   "id": "c00dde36",
   "metadata": {},
   "outputs": [
    {
     "data": {
      "text/plain": [
       "['anagrams',\n",
       " 'anscombe',\n",
       " 'attention',\n",
       " 'brain_networks',\n",
       " 'car_crashes',\n",
       " 'diamonds',\n",
       " 'dots',\n",
       " 'dowjones',\n",
       " 'exercise',\n",
       " 'flights',\n",
       " 'fmri',\n",
       " 'geyser',\n",
       " 'glue',\n",
       " 'healthexp',\n",
       " 'iris',\n",
       " 'mpg',\n",
       " 'penguins',\n",
       " 'planets',\n",
       " 'seaice',\n",
       " 'taxis',\n",
       " 'tips',\n",
       " 'titanic',\n",
       " 'anagrams',\n",
       " 'anagrams',\n",
       " 'anscombe',\n",
       " 'anscombe',\n",
       " 'attention',\n",
       " 'attention',\n",
       " 'brain_networks',\n",
       " 'brain_networks',\n",
       " 'car_crashes',\n",
       " 'car_crashes',\n",
       " 'diamonds',\n",
       " 'diamonds',\n",
       " 'dots',\n",
       " 'dots',\n",
       " 'dowjones',\n",
       " 'dowjones',\n",
       " 'exercise',\n",
       " 'exercise',\n",
       " 'flights',\n",
       " 'flights',\n",
       " 'fmri',\n",
       " 'fmri',\n",
       " 'geyser',\n",
       " 'geyser',\n",
       " 'glue',\n",
       " 'glue',\n",
       " 'healthexp',\n",
       " 'healthexp',\n",
       " 'iris',\n",
       " 'iris',\n",
       " 'mpg',\n",
       " 'mpg',\n",
       " 'penguins',\n",
       " 'penguins',\n",
       " 'planets',\n",
       " 'planets',\n",
       " 'seaice',\n",
       " 'seaice',\n",
       " 'taxis',\n",
       " 'taxis',\n",
       " 'tips',\n",
       " 'tips',\n",
       " 'titanic',\n",
       " 'titanic',\n",
       " 'anagrams',\n",
       " 'anscombe',\n",
       " 'attention',\n",
       " 'brain_networks',\n",
       " 'car_crashes',\n",
       " 'diamonds',\n",
       " 'dots',\n",
       " 'dowjones',\n",
       " 'exercise',\n",
       " 'flights',\n",
       " 'fmri',\n",
       " 'geyser',\n",
       " 'glue',\n",
       " 'healthexp',\n",
       " 'iris',\n",
       " 'mpg',\n",
       " 'penguins',\n",
       " 'planets',\n",
       " 'seaice',\n",
       " 'taxis',\n",
       " 'tips',\n",
       " 'titanic']"
      ]
     },
     "execution_count": 4,
     "metadata": {},
     "output_type": "execute_result"
    }
   ],
   "source": [
    "sns.get_dataset_names()"
   ]
  },
  {
   "cell_type": "code",
   "execution_count": null,
   "id": "8c0a1f67",
   "metadata": {},
   "outputs": [],
   "source": []
  },
  {
   "cell_type": "code",
   "execution_count": null,
   "id": "02d008d6",
   "metadata": {},
   "outputs": [],
   "source": []
  }
 ],
 "metadata": {
  "kernelspec": {
   "display_name": "Python 3 (ipykernel)",
   "language": "python",
   "name": "python3"
  },
  "language_info": {
   "codemirror_mode": {
    "name": "ipython",
    "version": 3
   },
   "file_extension": ".py",
   "mimetype": "text/x-python",
   "name": "python",
   "nbconvert_exporter": "python",
   "pygments_lexer": "ipython3",
   "version": "3.11.5"
  }
 },
 "nbformat": 4,
 "nbformat_minor": 5
}
